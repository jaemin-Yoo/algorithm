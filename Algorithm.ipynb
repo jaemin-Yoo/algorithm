{
  "nbformat": 4,
  "nbformat_minor": 0,
  "metadata": {
    "colab": {
      "name": "Algorithm.ipynb",
      "private_outputs": true,
      "provenance": [],
      "authorship_tag": "ABX9TyO/EoWN2/uu4aAtQVfp5F/F",
      "include_colab_link": true
    },
    "kernelspec": {
      "name": "python3",
      "display_name": "Python 3"
    },
    "language_info": {
      "name": "python"
    }
  },
  "cells": [
    {
      "cell_type": "markdown",
      "metadata": {
        "id": "view-in-github",
        "colab_type": "text"
      },
      "source": [
        "<a href=\"https://colab.research.google.com/github/jaemin-Yoo/algorithm/blob/main/Algorithm.ipynb\" target=\"_parent\"><img src=\"https://colab.research.google.com/assets/colab-badge.svg\" alt=\"Open In Colab\"/></a>"
      ]
    },
    {
      "cell_type": "code",
      "source": [
        "# 2447\n",
        "\n",
        "def printStar(n, rect):\n",
        "    x = []\n",
        "    if n == 3:\n",
        "        return rect\n",
        "\n",
        "    for i in rect:\n",
        "        x.append(i * 3)\n",
        "    \n",
        "    for i in rect:\n",
        "        x.append(i+' '*len(rect)+i)\n",
        "\n",
        "    for i in rect:\n",
        "        x.append(i * 3)\n",
        "\n",
        "    return printStar(n//3, x)\n",
        "\n",
        "N = int(input())\n",
        "\n",
        "first = ['***', '* *', '***']\n",
        "first = printStar(N, first)\n",
        "\n",
        "for res in first:\n",
        "    print(res)"
      ],
      "metadata": {
        "id": "dNvwBHfEQe4t"
      },
      "execution_count": null,
      "outputs": []
    },
    {
      "cell_type": "code",
      "source": [
        "# 10870\n",
        "\n",
        "N = int(input())\n",
        "\n",
        "def fibonacci(n):\n",
        "\n",
        "    if n == 0:\n",
        "        return 0\n",
        "    elif n == 1:\n",
        "        return 1\n",
        "\n",
        "    return fibonacci(n-1) + fibonacci(n-2)\n",
        "\n",
        "print(fibonacci(N))"
      ],
      "metadata": {
        "id": "lBwxDSdQPLhX"
      },
      "execution_count": null,
      "outputs": []
    },
    {
      "cell_type": "code",
      "execution_count": null,
      "metadata": {
        "id": "hvRGGStkHqEO"
      },
      "outputs": [],
      "source": [
        "# 10872\n",
        "\n",
        "N = int(input())\n",
        "\n",
        "def factorial(n):\n",
        "\n",
        "    if n == 0:\n",
        "        return 1\n",
        "\n",
        "    return n * factorial(n-1)\n",
        "\n",
        "print(factorial(N))"
      ]
    }
  ]
}