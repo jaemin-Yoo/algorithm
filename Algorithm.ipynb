{
  "nbformat": 4,
  "nbformat_minor": 0,
  "metadata": {
    "colab": {
      "name": "Algorithm.ipynb",
      "private_outputs": true,
      "provenance": [],
      "collapsed_sections": [],
      "authorship_tag": "ABX9TyO8n9xIyKV9aFRx8WBJN3hP"
    },
    "kernelspec": {
      "name": "python3",
      "display_name": "Python 3"
    },
    "language_info": {
      "name": "python"
    }
  },
  "cells": [
    {
      "cell_type": "code",
      "source": [
        "# 2108\n",
        "\n",
        "N = int(input())\n",
        "\n",
        "arr = []\n",
        "for _ in range(N):\n",
        "    arr.append(int(input()))\n",
        "\n",
        "print(round(sum(arr)/len(arr)))\n",
        "\n",
        "arr.sort()\n",
        "print(arr[len(arr)//2])\n",
        "\n",
        "\n",
        "temp = [0] * 8001\n",
        "for i in arr:\n",
        "    temp[i+4000] += 1\n",
        "\n",
        "index = 0\n",
        "maxCount = 0\n",
        "for i in temp:\n",
        "    if i > maxCount:\n",
        "        cntList = []\n",
        "        maxCount = i\n",
        "        cntList.append(index - 4000)\n",
        "    elif i == maxCount and i != 0:\n",
        "        cntList.append(index - 4000)\n",
        "\n",
        "    index += 1\n",
        "    \n",
        "if len(cntList) > 1:\n",
        "    cntList.sort()\n",
        "    print(cntList[1])\n",
        "else:\n",
        "    print(cntList[0])\n",
        "\n",
        "print(max(arr) - min(arr))"
      ],
      "metadata": {
        "id": "3BdFtj1ZB2Wy"
      },
      "execution_count": null,
      "outputs": []
    },
    {
      "cell_type": "code",
      "source": [
        ""
      ],
      "metadata": {
        "id": "3M9zQLxRHXAN"
      },
      "execution_count": null,
      "outputs": []
    },
    {
      "cell_type": "code",
      "source": [
        "arr = [1, 2, 3, 4, 8.2]\n",
        "\n"
      ],
      "metadata": {
        "id": "cWEy5X-jCWHP"
      },
      "execution_count": null,
      "outputs": []
    },
    {
      "cell_type": "code",
      "source": [
        "# 10989 (python3)\n",
        "\n",
        "import sys\n",
        "\n",
        "N = int(sys.stdin.readline())\n",
        "\n",
        "seq = [0] * 10000\n",
        "for _ in range(N):\n",
        "    i = int(sys.stdin.readline())\n",
        "    seq[i-1] += 1\n",
        "\n",
        "for i in range(10000):\n",
        "    for _ in range(seq[i]):\n",
        "        print(i+1)\n",
        "\n",
        "# 재제출 (pypy3)\n",
        "\n",
        "import sys\n",
        "\n",
        "N = int(sys.stdin.readline())\n",
        "\n",
        "seq = [0] * 10000\n",
        "for _ in range(N):\n",
        "    i = int(sys.stdin.readline())\n",
        "    seq[i-1] += 1\n",
        "\n",
        "for i in range(10000):\n",
        "    for _ in range(seq[i]):\n",
        "        sys.stdout.write(str(i+1) + '\\n')"
      ],
      "metadata": {
        "id": "MCqrOX6HwxYh"
      },
      "execution_count": null,
      "outputs": []
    },
    {
      "cell_type": "code",
      "source": [
        "# 2750, 2751\n",
        "\n",
        "N = int(input())\n",
        "\n",
        "seq = []\n",
        "for _ in range(N):\n",
        "    seq.append(int(input()))\n",
        "\n",
        "seq.sort()\n",
        "for i in seq:\n",
        "    print(i)"
      ],
      "metadata": {
        "id": "WwTlAQQR74_d"
      },
      "execution_count": null,
      "outputs": []
    },
    {
      "cell_type": "code",
      "source": [
        "# 1436\n",
        "\n",
        "N = int(input())\n",
        "\n",
        "cnt = 1\n",
        "num = 666\n",
        "while True:\n",
        "    if N == cnt:\n",
        "        print(num)\n",
        "        break\n",
        "\n",
        "    num += 1\n",
        "    if str(num).find('666') != -1:\n",
        "        cnt += 1\n",
        "\n",
        "# 재제출\n",
        "\n",
        "N = int(input())\n",
        "\n",
        "cnt = 1\n",
        "num = 666\n",
        "while N != cnt:\n",
        "    num += 1\n",
        "    if str(num).find('666') != -1:\n",
        "        cnt += 1\n",
        "\n",
        "print(num)"
      ],
      "metadata": {
        "id": "si2aBhDC2Pgg"
      },
      "execution_count": null,
      "outputs": []
    },
    {
      "cell_type": "code",
      "source": [
        "# 1018\n",
        "\n",
        "def check(color, chess):\n",
        "    cnt = 0\n",
        "    for r in chess:\n",
        "        for s in r:\n",
        "            if s != color:\n",
        "                cnt += 1\n",
        "            \n",
        "            if color == 'W':\n",
        "                color = 'B'\n",
        "            else:\n",
        "                color = 'W'\n",
        "\n",
        "        if color == 'W':\n",
        "            color = 'B'\n",
        "        else:\n",
        "            color = 'W'\n",
        "    \n",
        "    return cnt\n",
        "    \n",
        "\n",
        "N, M = map(int, input().split())\n",
        "\n",
        "board = []\n",
        "for _ in range(N):\n",
        "    board.append(input())\n",
        "\n",
        "result = 9999\n",
        "for i in range(N-8+1):\n",
        "    for j in range(M-8+1):\n",
        "        chess = []\n",
        "\n",
        "        for row in board[i:i+8]:\n",
        "            chess.append(row[j:j+8])\n",
        "\n",
        "        cnt = min(check('W', chess), check('B', chess))\n",
        "        result = min(result, cnt)\n",
        "\n",
        "print(result)"
      ],
      "metadata": {
        "id": "qhwuMXmxy0Wl"
      },
      "execution_count": null,
      "outputs": []
    },
    {
      "cell_type": "code",
      "source": [
        "# 7568\n",
        "\n",
        "N = int(input())\n",
        "\n",
        "people = []\n",
        "for _ in range(N):\n",
        "    people.append(list(map(int, input().split())))\n",
        "\n",
        "result = [1 for _ in range(N)]\n",
        "for i in range(N-1):\n",
        "    for j in range(i+1, N):\n",
        "        if people[i][0] > people[j][0] and people[i][1] > people[j][1]:\n",
        "            result[j] += 1\n",
        "        elif people[i][0] < people[j][0] and people[i][1] < people[j][1]:\n",
        "            result[i] += 1\n",
        "\n",
        "print(*result)"
      ],
      "metadata": {
        "id": "63yYJHgz6pZB"
      },
      "execution_count": null,
      "outputs": []
    },
    {
      "cell_type": "code",
      "source": [
        "# 2231\n",
        "\n",
        "N = int(input())\n",
        "\n",
        "n = N\n",
        "ans = 0\n",
        "while True:\n",
        "    n -= 1\n",
        "    n_str = str(n)\n",
        "\n",
        "    s = n\n",
        "    for i in n_str:\n",
        "        s += int(i)\n",
        "    \n",
        "    if s == N:\n",
        "        ans = n\n",
        "    \n",
        "    if n < 1:\n",
        "        break\n",
        "\n",
        "print(ans)\n",
        "\n",
        "# 재제출\n",
        "\n",
        "N = int(input())\n",
        "\n",
        "ans = 0\n",
        "for n in range(1, N+1):\n",
        "    n_str = str(n)\n",
        "\n",
        "    s = n\n",
        "    for i in n_str:\n",
        "        s += int(i)\n",
        "    \n",
        "    if s == N:\n",
        "        ans = n\n",
        "        break\n",
        "\n",
        "print(ans)"
      ],
      "metadata": {
        "id": "H33kTEOfuQOb"
      },
      "execution_count": null,
      "outputs": []
    },
    {
      "cell_type": "code",
      "source": [
        "# 2798\n",
        "\n",
        "N, M = map(int, input().split())\n",
        "\n",
        "card = list(map(int, input().split()))\n",
        "\n",
        "max = 0\n",
        "one = card[:]\n",
        "for i in card:\n",
        "    one.remove(i)\n",
        "    two = one[:]\n",
        "    for j in one:\n",
        "        two.remove(j)\n",
        "        for k in two:\n",
        "            if max < i+j+k and M >= i+j+k:\n",
        "                result = i+j+k\n",
        "                max = result\n",
        "\n",
        "print(result)\n",
        "\n",
        "# 재제출\n",
        "\n",
        "N, M = map(int, input().split())\n",
        "\n",
        "card = list(map(int, input().split()))\n",
        "\n",
        "result = 0\n",
        "for i in range(N-2):\n",
        "    for j in range(i+1, N-1):\n",
        "        for k in range(j+1, N):\n",
        "            s = card[i] + card[j] + card[k]\n",
        "            if s <= M:\n",
        "                result = max(result, s)\n",
        "\n",
        "print(result)"
      ],
      "metadata": {
        "id": "lGVHhHk3cxjw"
      },
      "execution_count": null,
      "outputs": []
    },
    {
      "cell_type": "code",
      "source": [
        "# 11729\n",
        "\n",
        "N = int(input())\n",
        "\n",
        "print(2 ** N - 1) # 최소 이동 횟수\n",
        "\n",
        "def hanoi(n, from_pos, to_pos, aux_pos):\n",
        "    \n",
        "    if n == 1:\n",
        "        print(from_pos, to_pos)\n",
        "        return\n",
        "\n",
        "    hanoi(n-1, from_pos, aux_pos, to_pos) # n-1개 보조 타워로 이동\n",
        "    print(from_pos, to_pos) # 가장 큰 원판 목표 타워로 이동\n",
        "    hanoi(n-1, aux_pos, to_pos, from_pos) # n-1개 목표 타워로 이동\n",
        "\n",
        "hanoi(N, 1, 3, 2)"
      ],
      "metadata": {
        "id": "YFMNof8wkzpd"
      },
      "execution_count": null,
      "outputs": []
    },
    {
      "cell_type": "code",
      "source": [
        "# 2447\n",
        "\n",
        "def printStar(n, rect):\n",
        "    x = []\n",
        "    if n == 3:\n",
        "        return rect\n",
        "\n",
        "    for i in rect:\n",
        "        x.append(i * 3)\n",
        "    \n",
        "    for i in rect:\n",
        "        x.append(i+' '*len(rect)+i)\n",
        "\n",
        "    for i in rect:\n",
        "        x.append(i * 3)\n",
        "\n",
        "    return printStar(n//3, x)\n",
        "\n",
        "N = int(input())\n",
        "\n",
        "first = ['***', '* *', '***']\n",
        "first = printStar(N, first)\n",
        "\n",
        "for res in first:\n",
        "    print(res)"
      ],
      "metadata": {
        "id": "dNvwBHfEQe4t"
      },
      "execution_count": null,
      "outputs": []
    },
    {
      "cell_type": "code",
      "source": [
        "# 10870\n",
        "\n",
        "N = int(input())\n",
        "\n",
        "def fibonacci(n):\n",
        "\n",
        "    if n == 0:\n",
        "        return 0\n",
        "    elif n == 1:\n",
        "        return 1\n",
        "\n",
        "    return fibonacci(n-1) + fibonacci(n-2)\n",
        "\n",
        "print(fibonacci(N))"
      ],
      "metadata": {
        "id": "lBwxDSdQPLhX"
      },
      "execution_count": null,
      "outputs": []
    },
    {
      "cell_type": "code",
      "execution_count": null,
      "metadata": {
        "id": "hvRGGStkHqEO"
      },
      "outputs": [],
      "source": [
        "# 10872\n",
        "\n",
        "N = int(input())\n",
        "\n",
        "def factorial(n):\n",
        "\n",
        "    if n == 0:\n",
        "        return 1\n",
        "\n",
        "    return n * factorial(n-1)\n",
        "\n",
        "print(factorial(N))"
      ]
    }
  ]
}