{
  "nbformat": 4,
  "nbformat_minor": 0,
  "metadata": {
    "colab": {
      "name": "Algorithm.ipynb",
      "private_outputs": true,
      "provenance": [],
      "authorship_tag": "ABX9TyPVkuWDLvBoPvNTWaOLcoxg"
    },
    "kernelspec": {
      "name": "python3",
      "display_name": "Python 3"
    },
    "language_info": {
      "name": "python"
    }
  },
  "cells": [
    {
      "cell_type": "code",
      "source": [
        "# 10870\n",
        "\n",
        "N = int(input())\n",
        "\n",
        "def fibonacci(n):\n",
        "\n",
        "    if n == 0:\n",
        "        return 0\n",
        "    elif n == 1:\n",
        "        return 1\n",
        "\n",
        "    return fibonacci(n-1) + fibonacci(n-2)\n",
        "\n",
        "print(fibonacci(N))"
      ],
      "metadata": {
        "id": "lBwxDSdQPLhX"
      },
      "execution_count": null,
      "outputs": []
    },
    {
      "cell_type": "code",
      "execution_count": null,
      "metadata": {
        "id": "hvRGGStkHqEO"
      },
      "outputs": [],
      "source": [
        "# 10872\n",
        "\n",
        "N = int(input())\n",
        "\n",
        "def factorial(n):\n",
        "\n",
        "    if n == 0:\n",
        "        return 1\n",
        "\n",
        "    return n * factorial(n-1)\n",
        "\n",
        "print(factorial(N))"
      ]
    }
  ]
}