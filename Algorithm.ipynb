{
  "nbformat": 4,
  "nbformat_minor": 0,
  "metadata": {
    "colab": {
      "name": "Algorithm.ipynb",
      "private_outputs": true,
      "provenance": [],
      "collapsed_sections": [],
      "authorship_tag": "ABX9TyNbacyo2pIZ1RmKYV846Hzp"
    },
    "kernelspec": {
      "name": "python3",
      "display_name": "Python 3"
    },
    "language_info": {
      "name": "python"
    }
  },
  "cells": [
    {
      "cell_type": "code",
      "source": [
        "# 1260\n",
        "from collections import deque\n",
        "\n",
        "def dfs(graph, v):\n",
        "    visited = []\n",
        "    stack = [v]\n",
        "    while stack:\n",
        "        node = stack.pop()\n",
        "        if node not in visited:\n",
        "            visited.append(node)\n",
        "            stack.extend(list(map(str, graph[node])))\n",
        "            print(node, end=\" \")\n",
        "\n",
        "def bfs(graph, v):\n",
        "    visited = []\n",
        "    queue = deque()\n",
        "    queue.append(v)\n",
        "    while queue:\n",
        "        node = queue.popleft()\n",
        "        if node not in visited:\n",
        "            visited.append(node)\n",
        "            queue.extend(list(map(str, graph[node])))\n",
        "            print(node, end=\" \")\n",
        "\n",
        "graph = {}\n",
        "n, m, v = map(int, input().split())\n",
        "for i in range(1, n+1):\n",
        "    graph[str(i)] = []\n",
        "\n",
        "for _ in range(m):\n",
        "    a, b = map(int, input().split())\n",
        "    graph[str(a)] += [b]\n",
        "    graph[str(b)] += [a]\n",
        "\n",
        "for k in graph.keys():\n",
        "    graph[k] = sorted(graph[k], reverse=True)\n",
        "dfs(graph, str(v))\n",
        "print()\n",
        "for k in graph.keys():\n",
        "    graph[k] = sorted(graph[k])\n",
        "bfs(graph, str(v))"
      ],
      "metadata": {
        "id": "HEvqHJfnXh7s"
      },
      "execution_count": null,
      "outputs": []
    },
    {
      "cell_type": "code",
      "source": [
        "a = [1,2,3,4]\n",
        "t = list(map(str, a))\n",
        "print(t)"
      ],
      "metadata": {
        "id": "G2rtgKkDcwrL"
      },
      "execution_count": null,
      "outputs": []
    },
    {
      "cell_type": "code",
      "source": [
        "graph = {}\n",
        "for i in range(1, 4):\n",
        "    graph[str(i)] = []\n",
        "\n",
        "graph['2'] += [2]\n",
        "graph['1'] += [3]\n",
        "print(graph['1'])"
      ],
      "metadata": {
        "id": "gN6mDHvCYYc5"
      },
      "execution_count": null,
      "outputs": []
    },
    {
      "cell_type": "code",
      "source": [
        "# 2630\n",
        "\n",
        "zeroCnt = 0\n",
        "oneCnt = 0\n",
        "def check(arr):\n",
        "    global zeroCnt, oneCnt\n",
        "    for i in arr:\n",
        "        for j in i:\n",
        "            if j != arr[0][0]:\n",
        "                return False\n",
        "    if arr[0][0] == 0:\n",
        "        zeroCnt += 1\n",
        "    else:\n",
        "        oneCnt += 1\n",
        "    return True\n",
        "\n",
        "def divide(arr):\n",
        "    a = []\n",
        "    b = []\n",
        "    c = []\n",
        "    d = []\n",
        "    n = len(arr[0])\n",
        "    for i in range(n):\n",
        "        if i < int(n/2):\n",
        "            a.append(arr[i][:int(n/2)])\n",
        "            b.append(arr[i][int(n/2):n])\n",
        "        else:\n",
        "            c.append(arr[i][:int(n/2)])\n",
        "            d.append(arr[i][int(n/2):n])\n",
        "\n",
        "    if check(a)==False:\n",
        "        divide(a)\n",
        "    if check(b)==False:\n",
        "        divide(b)\n",
        "    if check(c)==False:\n",
        "        divide(c)\n",
        "    if check(d)==False:\n",
        "        divide(d)\n",
        "\n",
        "n = int(input())\n",
        "board = []\n",
        "for _ in range(n):\n",
        "    board.append(list(map(int, input().split())))\n",
        "\n",
        "if check(board)==False:\n",
        "    divide(board)\n",
        "print(zeroCnt)\n",
        "print(oneCnt)"
      ],
      "metadata": {
        "id": "wb0jRVlAEWj2"
      },
      "execution_count": null,
      "outputs": []
    },
    {
      "cell_type": "code",
      "source": [
        "# 10817\n",
        "\n",
        "a = list(map(int, input().split()))\n",
        "a.remove(max(a))\n",
        "a.remove(min(a))\n",
        "print(*a)"
      ],
      "metadata": {
        "id": "hNO0mhpvzNYt"
      },
      "execution_count": null,
      "outputs": []
    },
    {
      "cell_type": "code",
      "source": [
        "# 5430\n",
        "from collections import deque\n",
        "\n",
        "T = int(input())\n",
        "for _ in range(T):\n",
        "    p = input()\n",
        "    n = int(input())\n",
        "    a = input()\n",
        "    deq = deque()\n",
        "    if a != '[]':\n",
        "        deq.extend(a[1:len(a)-1].split(','))\n",
        "\n",
        "    error = False\n",
        "    rev = False\n",
        "    for i in p:\n",
        "        if i == 'R':\n",
        "            if rev:\n",
        "                rev = False\n",
        "            else:\n",
        "                rev = True\n",
        "        else:\n",
        "            if len(deq) == 0:\n",
        "                error = True\n",
        "                break\n",
        "            else:\n",
        "                if rev:\n",
        "                    deq.pop()\n",
        "                else:\n",
        "                    deq.popleft()\n",
        "\n",
        "    if rev:\n",
        "        deq.reverse()\n",
        "\n",
        "    if error:\n",
        "        print('error')\n",
        "    else:\n",
        "        print(\"[\"+\",\".join(deq)+\"]\")"
      ],
      "metadata": {
        "id": "6tYLY_zUzdS6"
      },
      "execution_count": null,
      "outputs": []
    },
    {
      "cell_type": "code",
      "source": [
        "# 1021\n",
        "from collections import deque\n",
        "\n",
        "n, m = map(int, input().split())\n",
        "deq = deque()\n",
        "for i in range(1, n+1):\n",
        "    deq.append(i)\n",
        "\n",
        "a = list(map(int, input().split()))\n",
        "result = 0\n",
        "for i in a:    \n",
        "    idx = deq.index(i)\n",
        "    if idx > len(deq) - idx:\n",
        "        v = len(deq) - idx\n",
        "    else:\n",
        "        v = -idx\n",
        "    deq.rotate(v)\n",
        "    deq.popleft()\n",
        "    result += abs(v)\n",
        "print(result)"
      ],
      "metadata": {
        "id": "NndpoEEkP8Sg"
      },
      "execution_count": null,
      "outputs": []
    },
    {
      "cell_type": "code",
      "source": [
        "# 18258\n",
        "from collections import deque\n",
        "import sys\n",
        "\n",
        "input = sys.stdin.readline\n",
        "\n",
        "n = int(input())\n",
        "rst = deque()\n",
        "for _ in range(n):\n",
        "    s = list(input().strip().split())\n",
        "    if s[0] == 'push':\n",
        "        rst.append(s[1])\n",
        "    elif s[0] == 'front':\n",
        "        if len(rst) == 0:\n",
        "            print(-1)\n",
        "        else:\n",
        "            print(rst[0])\n",
        "    elif s[0] == 'back':\n",
        "        if len(rst) == 0:\n",
        "            print(-1)\n",
        "        else:\n",
        "            print(rst[-1])\n",
        "    elif s[0] == 'size':\n",
        "        print(len(rst))\n",
        "    elif s[0] == 'empty':\n",
        "        if len(rst) == 0:\n",
        "            print(1)\n",
        "        else:\n",
        "            print(0)\n",
        "    elif s[0] == 'pop':\n",
        "        if len(rst) == 0:\n",
        "            print(-1)\n",
        "        else:\n",
        "            print(rst.popleft())"
      ],
      "metadata": {
        "id": "5W_UMEwiYXAr"
      },
      "execution_count": null,
      "outputs": []
    },
    {
      "cell_type": "code",
      "source": [
        "# 17298\n",
        "\n",
        "n = int(input())\n",
        "a = list(map(int, input().split()))\n",
        "\n",
        "result = [-1] * n\n",
        "stack = [0]\n",
        "for i in range(1, n):\n",
        "    while stack and a[i] > a[stack[-1]]:\n",
        "        result[stack[-1]] = a[i]\n",
        "        stack.pop()\n",
        "    stack.append(i)\n",
        "\n",
        "print(*result)"
      ],
      "metadata": {
        "id": "DB5jqAGwVRl5"
      },
      "execution_count": null,
      "outputs": []
    },
    {
      "cell_type": "code",
      "source": [
        "# 2004\n",
        "\n",
        "def getCount(n, k):\n",
        "    count = 0\n",
        "    while n:\n",
        "        n //= k\n",
        "        count += n\n",
        "    \n",
        "    return count\n",
        "    \n",
        "n, m = map(int, input().split())\n",
        "print(min(getCount(n, 5)-getCount(m, 5)-getCount(n-m, 5), getCount(n, 2)-getCount(m, 2)-getCount(n-m, 2)))"
      ],
      "metadata": {
        "id": "KbUjydjd2r3H"
      },
      "execution_count": null,
      "outputs": []
    },
    {
      "cell_type": "code",
      "source": [
        "# 1676\n",
        "\n",
        "n = int(input())\n",
        "result = 1\n",
        "for i in range(1, n+1):\n",
        "    result *= i\n",
        "\n",
        "result = str(result)\n",
        "cnt = 0\n",
        "for i in range(len(result)-1, -1, -1):\n",
        "    if result[i] != '0':\n",
        "        break\n",
        "    cnt += 1\n",
        "print(cnt)"
      ],
      "metadata": {
        "id": "_h65E0Z6VL_-"
      },
      "execution_count": null,
      "outputs": []
    },
    {
      "cell_type": "code",
      "source": [
        "# 9375\n",
        "\n",
        "T = int(input())\n",
        "for _ in range(T):\n",
        "    n = int(input())\n",
        "    dic = {}\n",
        "    for _ in range(n):\n",
        "        a = input().split()\n",
        "\n",
        "        if a[1] in dic:\n",
        "            dic[a[1]] += 1\n",
        "        else:\n",
        "            dic[a[1]] = 1\n",
        "\n",
        "    result = 1\n",
        "    for v in dic.values():\n",
        "        result *= v + 1\n",
        "    print(result-1)"
      ],
      "metadata": {
        "id": "EG0YLs4JouNJ"
      },
      "execution_count": null,
      "outputs": []
    },
    {
      "cell_type": "code",
      "source": [
        "# 1010\n",
        "\n",
        "T = int(input())\n",
        "for _ in range(T):\n",
        "    n, m = map(int, input().split())\n",
        "\n",
        "    if m-n < n:\n",
        "        n = m-n\n",
        "\n",
        "    t = 1\n",
        "    b = 1\n",
        "    for i in range(1, n+1):\n",
        "        t *= m - i + 1\n",
        "        b *= i\n",
        "    print((t//b))"
      ],
      "metadata": {
        "id": "iWB66rYb1JNB"
      },
      "execution_count": null,
      "outputs": []
    },
    {
      "cell_type": "code",
      "source": [
        "# 11051\n",
        "\n",
        "n, k = map(int, input().split())\n",
        "if n-k < k:\n",
        "    k = n-k\n",
        "\n",
        "t = 1\n",
        "b = 1\n",
        "for i in range(1, k+1):\n",
        "    t *= n - i + 1\n",
        "    b *= i\n",
        "print((t//b)%10007)"
      ],
      "metadata": {
        "id": "MNyYjHXNOlgF"
      },
      "execution_count": null,
      "outputs": []
    },
    {
      "cell_type": "code",
      "source": [
        "# 3036\n",
        "\n",
        "def gcd(a, b):\n",
        "    while b > 0:\n",
        "        a, b = b, a%b\n",
        "    return a\n",
        "\n",
        "n = int(input())\n",
        "a = list(map(int, input().split()))\n",
        "\n",
        "for i in range(1, n):\n",
        "    if a[0] > a[i]:\n",
        "        g = gcd(a[0], a[i])\n",
        "        print(str(a[0]//g)+'/'+str(a[i]//g))\n",
        "    else:\n",
        "        g = gcd(a[i], a[0])\n",
        "        print(str(a[0]//g)+'/'+str(a[i]//g))"
      ],
      "metadata": {
        "id": "N26i7o7omAL8"
      },
      "execution_count": null,
      "outputs": []
    },
    {
      "cell_type": "code",
      "source": [
        "# 18111\n",
        "\n",
        "n, m, b = map(int, input().split())\n",
        "\n",
        "arr = []\n",
        "for _ in range(n):\n",
        "    a = list(map(int, input().split()))\n",
        "    arr.append(a)\n",
        "\n",
        "res = []\n",
        "for v in range(256, -1, -1):\n",
        "    bT = b\n",
        "    result = 0\n",
        "    for i in arr:\n",
        "        for j in i:\n",
        "            if v > j:\n",
        "                result += v - j\n",
        "                bT -= v - j\n",
        "            else:\n",
        "                result += 2 * (j - v)\n",
        "                bT += j - v\n",
        "\n",
        "    if bT >= 0:\n",
        "        res.append((result, v))\n",
        "print(*min(res, key=lambda x:x[0]))"
      ],
      "metadata": {
        "id": "MHHOq9_cqnJ7"
      },
      "execution_count": null,
      "outputs": []
    },
    {
      "cell_type": "code",
      "source": [
        "a = [[1, 2], [1, 3], [2, 2]]\n",
        "print(*min(a, key=lambda x:x[0]))"
      ],
      "metadata": {
        "id": "krpfvGqI8Ww9"
      },
      "execution_count": null,
      "outputs": []
    },
    {
      "cell_type": "code",
      "source": [
        "# 2805\n",
        "\n",
        "def solve(a, m, start, end):\n",
        "    while start <= end:\n",
        "        mid = (start + end) // 2\n",
        "        result = 0\n",
        "        for i in a:\n",
        "            if i > mid:\n",
        "                result += i-mid\n",
        "        if result >= m:\n",
        "            start = mid + 1\n",
        "        else:\n",
        "            end = mid - 1\n",
        "    print(end)\n",
        "\n",
        "n, m = map(int, input().split())\n",
        "a = list(map(int, input().split()))\n",
        "\n",
        "solve(a, m, 0, max(a))"
      ],
      "metadata": {
        "id": "z6k9-X2YaCoE"
      },
      "execution_count": null,
      "outputs": []
    },
    {
      "cell_type": "code",
      "source": [
        "# 4949\n",
        "\n",
        "while True:\n",
        "    s = input()\n",
        "    if s == \".\":\n",
        "        break\n",
        "\n",
        "    a = []\n",
        "    isSymmetry = True\n",
        "    for i in s:\n",
        "        if i == \"(\" or i == \"[\":\n",
        "            a.append(i)\n",
        "        if i == \")\":\n",
        "            if len(a) == 0:\n",
        "                isSymmetry = False\n",
        "                break\n",
        "\n",
        "            if a[-1] == \"(\":\n",
        "                a.pop()\n",
        "            else:\n",
        "                isSymmetry = False\n",
        "                break\n",
        "        if i == \"]\":\n",
        "            if len(a) == 0:\n",
        "                isSymmetry = False\n",
        "                break\n",
        "                \n",
        "            if a[-1] == \"[\":\n",
        "                a.pop()\n",
        "            else:\n",
        "                isSymmetry = False\n",
        "                break\n",
        "    \n",
        "    if isSymmetry and len(a) == 0:\n",
        "        print('yes')\n",
        "    else:\n",
        "        print('no')"
      ],
      "metadata": {
        "id": "4l9Zaf9XTayZ"
      },
      "execution_count": null,
      "outputs": []
    },
    {
      "cell_type": "code",
      "source": [
        "# 10773\n",
        "\n",
        "k = int(input())\n",
        "a = []\n",
        "for _ in range(k):\n",
        "    n = int(input())\n",
        "    if n == 0:\n",
        "        a.pop()\n",
        "    else:\n",
        "        a.append(n)\n",
        "print(sum(a))"
      ],
      "metadata": {
        "id": "rja98ojgRu9R"
      },
      "execution_count": null,
      "outputs": []
    },
    {
      "cell_type": "code",
      "source": [
        "# 15829\n",
        "\n",
        "n = int(input())\n",
        "a = input()\n",
        "result = 0\n",
        "for i, v in enumerate(a):\n",
        "    result += ((ord(v)-96)*31**i)\n",
        "print(result % 1234567891)"
      ],
      "metadata": {
        "id": "rir5X7bOPzGL"
      },
      "execution_count": null,
      "outputs": []
    },
    {
      "cell_type": "code",
      "source": [
        "# 1966\n",
        "\n",
        "T = int(input())\n",
        "for _ in range(T):\n",
        "    n, m = map(int, input().split())\n",
        "    a = list(map(int, input().split()))\n",
        "\n",
        "    arr = []\n",
        "    for i, v in enumerate(a):\n",
        "        arr.append((i, v))\n",
        "    \n",
        "    cnt = 1\n",
        "    while True:\n",
        "        v = max(arr, key=lambda x:x[1])\n",
        "        if v[0] == m:\n",
        "            print(cnt)\n",
        "            break\n",
        "        i = arr.index(v)\n",
        "        arr = arr[i+1:] + arr[:i]\n",
        "        cnt += 1"
      ],
      "metadata": {
        "id": "AYeTaxnxcnde"
      },
      "execution_count": null,
      "outputs": []
    },
    {
      "cell_type": "code",
      "source": [
        "# 2558\n",
        "\n",
        "a = int(input())\n",
        "b = int(input())\n",
        "\n",
        "print(a+b)"
      ],
      "metadata": {
        "id": "J7ZtHHQzxHZ0"
      },
      "execution_count": null,
      "outputs": []
    },
    {
      "cell_type": "code",
      "source": [
        "# 1874\n",
        "\n",
        "n = int(input())\n",
        "stack = [0]\n",
        "a = int(input())\n",
        "result = []\n",
        "for i in range(1, n+1):\n",
        "    stack.append(i)\n",
        "    result.append('+')\n",
        "    while stack[-1] == a:\n",
        "        result.append('-')\n",
        "        stack.pop()\n",
        "        if i == n and len(stack) == 1:\n",
        "            break\n",
        "        a = int(input())\n",
        "\n",
        "if len(stack) == 1:\n",
        "    for i in result:\n",
        "        print(i)\n",
        "else:\n",
        "    print('NO')"
      ],
      "metadata": {
        "id": "-6nFD_qfjOZB"
      },
      "execution_count": null,
      "outputs": []
    },
    {
      "cell_type": "code",
      "source": [
        "# 1654\n",
        "\n",
        "k, n = map(int, input().split())\n",
        "l = []\n",
        "for _ in range(k):\n",
        "    l.append(int(input()))\n",
        "\n",
        "q = sum(l)//n\n",
        "while True:\n",
        "    t = []\n",
        "    for i in range(k):\n",
        "        t.append(l[i] // q)\n",
        "\n",
        "    if sum(t) >= n:\n",
        "        break\n",
        "    else:\n",
        "        temp = []\n",
        "        for i in range(k):\n",
        "            temp.append(l[i] // (t[i]+1))\n",
        "        q = max(temp)\n",
        "print(q)\n",
        "\n",
        "# 재제출\n",
        "\n",
        "k, n = map(int, input().split())\n",
        "l = [int(input()) for _ in range(k)]\n",
        "start, end = 1, max(l)\n",
        "\n",
        "while start <= end:\n",
        "    mid = (start + end) // 2\n",
        "    lines = 0\n",
        "    for i in l:\n",
        "        lines += i // mid\n",
        "\n",
        "    if lines >= n:\n",
        "        start = mid + 1\n",
        "    else:\n",
        "        end = mid - 1\n",
        "print(end)"
      ],
      "metadata": {
        "id": "Wf6RyRj7bSlh"
      },
      "execution_count": null,
      "outputs": []
    },
    {
      "cell_type": "code",
      "source": [
        "# 2475\n",
        "\n",
        "a, b, c, d, e = map(int, input().split())\n",
        "print((a**2+b**2+c**2+d**2+e**2)%10)"
      ],
      "metadata": {
        "id": "w4yT0ww-379s"
      },
      "execution_count": null,
      "outputs": []
    },
    {
      "cell_type": "code",
      "source": [
        "# 2920\n",
        "\n",
        "n = input()\n",
        "if n == '1 2 3 4 5 6 7 8':\n",
        "    print('ascending')\n",
        "elif n == '8 7 6 5 4 3 2 1':\n",
        "    print('descending')\n",
        "else:\n",
        "    print('mixed')"
      ],
      "metadata": {
        "id": "re4hHgDq3K39"
      },
      "execution_count": null,
      "outputs": []
    },
    {
      "cell_type": "code",
      "source": [
        "# 1259\n",
        "\n",
        "while True:\n",
        "    n = input()\n",
        "\n",
        "    state = True\n",
        "    if n == '0':\n",
        "        break\n",
        "    \n",
        "    for i in range(int(len(n)/2)):\n",
        "        if n[i] != n[len(n)-i-1]:\n",
        "            state = False\n",
        "            print('no')\n",
        "            break\n",
        "    \n",
        "    if state:\n",
        "        print('yes')"
      ],
      "metadata": {
        "id": "DF6ZN1e3xqmS"
      },
      "execution_count": null,
      "outputs": []
    },
    {
      "cell_type": "code",
      "source": [
        "# 11866\n",
        "\n",
        "n, k = map(int, input().split())\n",
        "a = []\n",
        "for i in range(1, n+1):\n",
        "    a.append(i)\n",
        "\n",
        "res = []\n",
        "cnt = 1\n",
        "while len(a) > 0:\n",
        "    for i in a[:]:\n",
        "        if cnt == k:\n",
        "            res.append(i)\n",
        "            a.remove(i)\n",
        "            cnt = 0\n",
        "        cnt += 1\n",
        "\n",
        "print('<'+', '.join(map(str, res))+'>')"
      ],
      "metadata": {
        "id": "XhLSAGbFq9tN"
      },
      "execution_count": null,
      "outputs": []
    },
    {
      "cell_type": "code",
      "source": [
        "# 10866\n",
        "\n",
        "n = int(input())\n",
        "dq = []\n",
        "for _ in range(n):\n",
        "    c = input()\n",
        "    if c[:10] == 'push_front':\n",
        "        dq.append(int(c[10:]))\n",
        "    elif c[:9] == 'push_back':\n",
        "        dq.insert(0, int(c[10:]))\n",
        "    elif c == 'pop_front':\n",
        "        if len(dq) == 0:\n",
        "            print('-1')\n",
        "        else:\n",
        "            print(dq.pop())\n",
        "    elif c == 'pop_back':\n",
        "        if len(dq) == 0:\n",
        "            print('-1')\n",
        "        else:\n",
        "            print(dq.pop(0))\n",
        "    elif c == 'size':\n",
        "        print(len(dq))\n",
        "    elif c == 'empty':\n",
        "        if len(dq) == 0:\n",
        "            print('1')\n",
        "        else:\n",
        "            print('0')\n",
        "    elif c == 'front':\n",
        "        if len(dq) == 0:\n",
        "            print('-1')\n",
        "        else:\n",
        "            print(dq[-1])\n",
        "    elif c == 'back':\n",
        "        if len(dq) == 0:\n",
        "            print('-1')\n",
        "        else:\n",
        "            print(dq[0])"
      ],
      "metadata": {
        "id": "25dJu1AUoAA_"
      },
      "execution_count": null,
      "outputs": []
    },
    {
      "cell_type": "code",
      "source": [
        "# 10845\n",
        "import sys\n",
        "\n",
        "input = sys.stdin.readline\n",
        "\n",
        "n = int(input())\n",
        "q = []\n",
        "for _ in range(n):\n",
        "    c = input().strip()\n",
        "    if c[:4] == 'push':\n",
        "        q.insert(0, int(c[5:]))\n",
        "    elif c == 'pop':\n",
        "        if len(q) == 0:\n",
        "            print('-1')\n",
        "        else:\n",
        "            print(q.pop())\n",
        "    elif c == 'size':\n",
        "        print(len(q))\n",
        "    elif c == 'empty':\n",
        "        if len(q) == 0:\n",
        "            print('1')\n",
        "        else:\n",
        "            print('0')\n",
        "    elif c == 'front':\n",
        "        if len(q) == 0:\n",
        "            print('-1')\n",
        "        else:\n",
        "            print(q[-1])\n",
        "    elif c == 'back':\n",
        "        if len(q) == 0:\n",
        "            print('-1')\n",
        "        else:\n",
        "            print(q[0])"
      ],
      "metadata": {
        "id": "9gEdUrGzmbgx"
      },
      "execution_count": null,
      "outputs": []
    },
    {
      "cell_type": "code",
      "source": [
        "# 10828\n",
        "import sys\n",
        "\n",
        "input = sys.stdin.readline\n",
        "n = int(input())\n",
        "stack = []\n",
        "for _ in range(n):\n",
        "    c = input().strip()\n",
        "    if c[:4] == 'push':\n",
        "        stack.append(int(c[5:]))\n",
        "    elif c == 'pop':\n",
        "        if len(stack) == 0:\n",
        "            print('-1')\n",
        "        else:\n",
        "            print(stack.pop())\n",
        "    elif c == 'size':\n",
        "        print(len(stack))\n",
        "    elif c == 'empty':\n",
        "        if len(stack) == 0:\n",
        "            print('1')\n",
        "        else:\n",
        "            print('0')\n",
        "    elif c == 'top':\n",
        "        if len(stack) == 0:\n",
        "            print('-1')\n",
        "        else:\n",
        "            print(stack[-1])"
      ],
      "metadata": {
        "id": "8RexIbQmf0J0"
      },
      "execution_count": null,
      "outputs": []
    },
    {
      "cell_type": "code",
      "source": [
        "# 10816\n",
        "\n",
        "n = int(input())\n",
        "nA = list(map(int, input().split()))\n",
        "m = int(input())\n",
        "mA = list(map(int, input().split()))\n",
        "\n",
        "dp = [0] * 20000001\n",
        "for i in nA:\n",
        "    dp[i+10000000] += 1\n",
        "\n",
        "for i in mA:\n",
        "    print(dp[i+10000000], end=\" \")"
      ],
      "metadata": {
        "id": "w3bIEQwGcE2J"
      },
      "execution_count": null,
      "outputs": []
    },
    {
      "cell_type": "code",
      "source": [
        "# 9012\n",
        "\n",
        "n = int(input())\n",
        "for _ in range(n):\n",
        "    a = input()\n",
        "    l = 0\n",
        "    for i in a:\n",
        "        if i == '(':\n",
        "            l += 1\n",
        "        else:\n",
        "            l -= 1\n",
        "        \n",
        "        if l < 0:\n",
        "            print('NO')\n",
        "            break\n",
        "    if l == 0:\n",
        "        print('YES')\n",
        "    elif l > 0:\n",
        "        print('NO')"
      ],
      "metadata": {
        "id": "vBxu2Kj6ZW6d"
      },
      "execution_count": null,
      "outputs": []
    },
    {
      "cell_type": "code",
      "source": [
        "# 2164\n",
        "\n",
        "n = int(input())\n",
        "\n",
        "t = 2\n",
        "while True:\n",
        "    if n == 1:\n",
        "        print('1')\n",
        "        break\n",
        "\n",
        "    if n <= t:\n",
        "        print(t - (t - n) * 2)\n",
        "        break\n",
        "    t *= 2"
      ],
      "metadata": {
        "id": "xGE6XtZ3Tx9h"
      },
      "execution_count": null,
      "outputs": []
    },
    {
      "cell_type": "code",
      "source": [
        "# 1920\n",
        "\n",
        "n = int(input())\n",
        "nA = list(map(int, input().split()))\n",
        "\n",
        "m = int(input())\n",
        "mA = list(map(int, input().split()))\n",
        "\n",
        "for i in range(m):\n",
        "    if mA[i] in nA:\n",
        "        print('1')\n",
        "    else:\n",
        "        print('0')"
      ],
      "metadata": {
        "id": "w8NPRyYT_UIh"
      },
      "execution_count": null,
      "outputs": []
    },
    {
      "cell_type": "code",
      "source": [
        "# 11050\n",
        "\n",
        "n, k = map(int, input().split())\n",
        "k = min(k, n-k)\n",
        "\n",
        "d = 1\n",
        "m = 1\n",
        "while k > 0:\n",
        "    d *= n\n",
        "    m *= k\n",
        "    n -= 1\n",
        "    k -= 1\n",
        "print(int(d/m))"
      ],
      "metadata": {
        "id": "hVq958iR8ybH"
      },
      "execution_count": null,
      "outputs": []
    },
    {
      "cell_type": "code",
      "source": [
        "# 2981\n",
        "\n",
        "def divisor(v):\n",
        "    arr = []\n",
        "    for i in range(1, v):\n",
        "        if i**2 > v:\n",
        "            return arr\n",
        "        else:\n",
        "            if v%i == 0:\n",
        "                arr.append(i)\n",
        "                arr.append(v//i)\n",
        "\n",
        "n = int(input())\n",
        "\n",
        "arr = []\n",
        "for _ in range(n):\n",
        "    arr.append(int(input()))\n",
        "\n",
        "arr = sorted(arr)\n",
        "div = []\n",
        "for i in range(1, len(arr)):\n",
        "    v = arr[i] - arr[i-1]\n",
        "    div.append(divisor(v))\n",
        "\n",
        "minDiv = min(div, key=lambda x:len(x))\n",
        "div.remove(minDiv)\n",
        "result = []\n",
        "for i in minDiv:\n",
        "    cnt = 0\n",
        "    for j in div:\n",
        "        if i in j:\n",
        "            cnt += 1\n",
        "    \n",
        "    if cnt == len(div):\n",
        "        result.append(i)\n",
        "result.remove(1)\n",
        "result = set(result)\n",
        "result = sorted(result)\n",
        "print(*result) "
      ],
      "metadata": {
        "id": "vmjOblZV7Ukp"
      },
      "execution_count": null,
      "outputs": []
    },
    {
      "cell_type": "code",
      "source": [
        "# 1934\n",
        "\n",
        "def gcd(a, b):\n",
        "    while b > 0:\n",
        "        a, b = b, a%b\n",
        "    return a\n",
        "\n",
        "def lcm(a, b):\n",
        "    return a*b//gcd(a,b)\n",
        "\n",
        "T = int(input())\n",
        "\n",
        "for _ in range(T):\n",
        "    a, b = map(int, input().split())\n",
        "    print(lcm(a, b))    "
      ],
      "metadata": {
        "id": "VT3GjxFgyX31"
      },
      "execution_count": null,
      "outputs": []
    },
    {
      "cell_type": "code",
      "source": [
        "# 2609\n",
        "\n",
        "a, b = map(int, input().split())\n",
        "\n",
        "n = min(a, b)\n",
        "for i in range(1, n+1):\n",
        "    if a%i == 0 and b%i == 0:\n",
        "        gcf = i\n",
        "print(gcf)\n",
        "print(gcf * a//gcf * b//gcf)\n",
        "\n",
        "# 재제출\n",
        "\n",
        "def gcd(a, b):\n",
        "    while b > 0:\n",
        "        a, b = b, a%b\n",
        "    return a\n",
        "\n",
        "def lcm(a, b):\n",
        "    return a * b // gcd(a, b)\n",
        "\n",
        "a, b = map(int, input().split())\n",
        "print(gcd(a, b))\n",
        "print(lcm(a, b))"
      ],
      "metadata": {
        "id": "j-8VILuXux67"
      },
      "execution_count": null,
      "outputs": []
    },
    {
      "cell_type": "code",
      "source": [
        "# 1037\n",
        "\n",
        "n = int(input())\n",
        "a = list(map(int, input().split()))\n",
        "\n",
        "a = sorted(a)\n",
        "print(a[0] * a[-1])"
      ],
      "metadata": {
        "id": "ifjvyZ5bTjgf"
      },
      "execution_count": null,
      "outputs": []
    },
    {
      "cell_type": "code",
      "source": [
        "# 5086\n",
        "\n",
        "while True:\n",
        "    a, b = map(int, input().split())\n",
        "    if a == 0 and b == 0:\n",
        "        break\n",
        "\n",
        "    if a < b:\n",
        "        if b%a == 0:\n",
        "            print('factor')\n",
        "        else:\n",
        "            print('neither')\n",
        "    else:\n",
        "        if a%b == 0:\n",
        "            print('multiple')\n",
        "        else:\n",
        "            print('neither')"
      ],
      "metadata": {
        "id": "qKz1JTKYVQBF"
      },
      "execution_count": null,
      "outputs": []
    },
    {
      "cell_type": "code",
      "source": [
        "# 13305\n",
        "\n",
        "n = int(input())\n",
        "l = list(map(int, input().split()))\n",
        "p = list(map(int, input().split()))\n",
        "\n",
        "prePrice = p[0]\n",
        "result = 0 \n",
        "length = 0\n",
        "for i in range(1, n):\n",
        "    length += l[i-1]\n",
        "    if prePrice > p[i] or i == n-1:\n",
        "        result += length * prePrice\n",
        "        prePrice = p[i]\n",
        "        length = 0\n",
        "print(result)"
      ],
      "metadata": {
        "id": "y2hK9yVNKBUb"
      },
      "execution_count": null,
      "outputs": []
    },
    {
      "cell_type": "code",
      "source": [
        "# 1541\n",
        "\n",
        "n = input().split('-')\n",
        "if n[0] == '':\n",
        "    result = 0\n",
        "else:\n",
        "    p = map(int, n[0].split('+'))\n",
        "    result = sum(p)\n",
        "\n",
        "for i in range(1, len(n)):\n",
        "    p = map(int, n[i].split('+'))\n",
        "    result -= sum(p)\n",
        "print(result)"
      ],
      "metadata": {
        "id": "qBXgbDYR9G-d"
      },
      "execution_count": null,
      "outputs": []
    },
    {
      "cell_type": "code",
      "source": [
        "# 11399\n",
        "\n",
        "n = int(input())\n",
        "p = list(map(int, input().split()))\n",
        "\n",
        "p = sorted(p)\n",
        "result = 0\n",
        "for i in range(n):\n",
        "    result += sum(p[:i+1])\n",
        "print(result)"
      ],
      "metadata": {
        "id": "5BIYI0oKFFQk"
      },
      "execution_count": null,
      "outputs": []
    },
    {
      "cell_type": "code",
      "source": [
        "# 2480\n",
        "\n",
        "a, b, c = map(int, input().split())\n",
        "if a==b==c:\n",
        "    print(10000+a*1000)\n",
        "elif a==b:\n",
        "    print(1000+a*100)\n",
        "elif a==c:\n",
        "    print(1000+a*100)\n",
        "elif b==c:\n",
        "    print(1000+b*100)\n",
        "else:\n",
        "    print(max(a,b,c)*100)"
      ],
      "metadata": {
        "id": "FYkTePSbRlXu"
      },
      "execution_count": null,
      "outputs": []
    },
    {
      "cell_type": "code",
      "source": [
        "# 2525\n",
        "\n",
        "H, M = map(int, input().split())\n",
        "C = int(input())\n",
        "\n",
        "c_h = C // 60\n",
        "c_m = C % 60\n",
        "\n",
        "H += c_h\n",
        "M += c_m\n",
        "\n",
        "if M >= 60:\n",
        "    m_h = M // 60\n",
        "    m_m = M % 60\n",
        "\n",
        "    H += m_h\n",
        "    M = m_m\n",
        "\n",
        "if H >= 24:\n",
        "    H = H % 24\n",
        "    \n",
        "print(H, M)"
      ],
      "metadata": {
        "id": "sOq1-p2Qnjem"
      },
      "execution_count": null,
      "outputs": []
    },
    {
      "cell_type": "code",
      "source": [
        "# 12920\n",
        "\n",
        "n, m = map(int, input().split())\n",
        "\n",
        "v = [0]\n",
        "c = [0]\n",
        "for _ in range(n):\n",
        "    V, C, K = map(int, input().split())\n",
        "\n",
        "    i = 1\n",
        "    while K > 0:\n",
        "        tmp = min(i, K)\n",
        "        v.append(V * tmp)\n",
        "        c.append(C * tmp)\n",
        "        i *= 2\n",
        "        K -= tmp\n",
        "\n",
        "dp = [[0]*(m+1) for _ in range(len(v))]\n",
        "for i in range(1, len(v)):\n",
        "    for j in range(1, m+1):\n",
        "        if v[i] <= j:\n",
        "            dp[i][j] = max(dp[i-1][j], dp[i-1][j-v[i]]+c[i])\n",
        "        else:\n",
        "            dp[i][j] = dp[i-1][j]\n",
        "print(dp[len(v)-1][m])"
      ],
      "metadata": {
        "id": "M_Sidb_1UJ3E"
      },
      "execution_count": null,
      "outputs": []
    },
    {
      "cell_type": "code",
      "source": [
        "# 11727\n",
        "\n",
        "n = int(input())\n",
        "\n",
        "dp = [0] * (n+1)\n",
        "dp[1] = 1\n",
        "\n",
        "if n > 1:\n",
        "    dp[2] = 3\n",
        "\n",
        "for i in range(3, n+1):\n",
        "    dp[i] = (dp[i-1] + 2 * dp[i-2]) % 10007\n",
        "print(dp[n])"
      ],
      "metadata": {
        "id": "zMxZIFkSvZjT"
      },
      "execution_count": null,
      "outputs": []
    },
    {
      "cell_type": "code",
      "source": [
        "# 1931\n",
        "\n",
        "n = int(input())\n",
        "\n",
        "s = []\n",
        "for _ in range(n):\n",
        "    s.append(list(map(int, input().split())))\n",
        "s = sorted(s, key=lambda x:x[0])\n",
        "s = sorted(s, key=lambda x:x[1])\n",
        "\n",
        "cnt = 1\n",
        "prev = s[0][1]\n",
        "for i in range(1, n):\n",
        "    if prev <= s[i][0]:\n",
        "        prev = s[i][1]\n",
        "        cnt += 1\n",
        "print(cnt)"
      ],
      "metadata": {
        "id": "Yt5RUDrtrxBq"
      },
      "execution_count": null,
      "outputs": []
    },
    {
      "cell_type": "code",
      "source": [
        "# 2193\n",
        "\n",
        "n = int(input())\n",
        "\n",
        "dp = [0] * (n+1)\n",
        "dp[1] = 1\n",
        "\n",
        "if n > 1:\n",
        "    dp[2] = 1\n",
        "\n",
        "for i in range(3, n+1):\n",
        "    dp[i] = dp[i-1] + dp[i-2]\n",
        "print(dp[n])"
      ],
      "metadata": {
        "id": "Y-JBLpHRwR9y"
      },
      "execution_count": null,
      "outputs": []
    },
    {
      "cell_type": "code",
      "source": [
        "# 11726\n",
        "\n",
        "n = int(input())\n",
        "\n",
        "dp = [0] * (n+1)\n",
        "dp[1] = 1\n",
        "\n",
        "if n > 1:\n",
        "    dp[2] = 2\n",
        "\n",
        "for i in range(3, n+1):\n",
        "    dp[i] = (dp[i-1] + dp[i-2]) % 10007\n",
        "print(dp[n])"
      ],
      "metadata": {
        "id": "nGweoGRdVcer"
      },
      "execution_count": null,
      "outputs": []
    },
    {
      "cell_type": "code",
      "source": [
        "# 1450\n",
        "\n",
        "def bruteForce(depth, w, n, s, dp):\n",
        "    for i in range(depth, n):\n",
        "        s.append(w[i])\n",
        "        dp.append(sum(s))\n",
        "        bruteForce(i+1, w, n, s, dp)\n",
        "        s.pop()\n",
        "\n",
        "def binarySearch(arr, target, start, end):\n",
        "    while start < end:\n",
        "        mid = (start + end) // 2\n",
        "        if arr[mid] <= target:\n",
        "            start = mid + 1\n",
        "        else:\n",
        "            end = mid\n",
        "    return end\n",
        "\n",
        "n, c = map(int, input().split())\n",
        "w = list(map(int, input().split()))\n",
        "\n",
        "aw = w[:n//2]\n",
        "bw = w[n//2:]\n",
        "\n",
        "dp_a = []\n",
        "dp_b = []\n",
        "sum_a = []\n",
        "sum_b = []\n",
        "\n",
        "bruteForce(0, aw, len(aw), sum_a, dp_a)\n",
        "bruteForce(0, bw, len(bw), sum_b, dp_b)\n",
        "\n",
        "dp_b.sort()\n",
        "\n",
        "cnt = 1\n",
        "for i in dp_a:\n",
        "    if i <= c:\n",
        "        cnt += 1\n",
        "\n",
        "for i in dp_b:\n",
        "    if i <= c:\n",
        "        cnt += 1\n",
        "    \n",
        "for i in dp_a:\n",
        "    cnt += binarySearch(dp_b, c-i, 0, len(dp_b))\n",
        "\n",
        "print(cnt)            "
      ],
      "metadata": {
        "id": "PskmCcT4U7gx"
      },
      "execution_count": null,
      "outputs": []
    },
    {
      "cell_type": "code",
      "source": [
        "# 11047\n",
        "\n",
        "n, k = map(int, input().split())\n",
        "\n",
        "a = []\n",
        "for _ in range(n):\n",
        "    a.append(int(input()))\n",
        "\n",
        "cnt = 0\n",
        "for i in range(n-1, -1, -1):\n",
        "    quot = k//a[i]\n",
        "    if quot > 0:\n",
        "        cnt += quot\n",
        "        k = k - quot * a[i]\n",
        "    \n",
        "    if k == 0:\n",
        "        break\n",
        "print(cnt)"
      ],
      "metadata": {
        "id": "v0En0o8S4gG7"
      },
      "execution_count": null,
      "outputs": []
    },
    {
      "cell_type": "code",
      "source": [
        "# 12865\n",
        "\n",
        "n, k = map(int, input().split())\n",
        "\n",
        "w = [0]\n",
        "v = [0]\n",
        "d = [[0] * (k+1) for _ in range(n+1)]\n",
        "for _ in range(n):\n",
        "    weight, value = map(int, input().split())\n",
        "    w.append(weight)\n",
        "    v.append(value)\n",
        "    \n",
        "for i in range(1, n+1):\n",
        "    for j in range(1, k+1):\n",
        "        if j < w[i]:\n",
        "            d[i][j] = d[i-1][j]\n",
        "        else:\n",
        "            d[i][j] = max(v[i] + d[i-1][j-w[i]], d[i-1][j])\n",
        "            \n",
        "print(d[n][k])"
      ],
      "metadata": {
        "id": "WKWNyxE984d4"
      },
      "execution_count": null,
      "outputs": []
    },
    {
      "cell_type": "code",
      "source": [
        "# 11052\n",
        "\n",
        "N = int(input())\n",
        "p = [0] + list(map(int, input().split()))\n",
        "\n",
        "dp = [0] * (N+1)\n",
        "dp[1] = p[1]\n",
        "for i in range(2, N+1):\n",
        "    for j in range(1, i+1):\n",
        "        if dp[i] < dp[i-j] + p[j]:\n",
        "            dp[i] = dp[i-j] + p[j]\n",
        "print(dp[N])"
      ],
      "metadata": {
        "id": "iPbfg8VuOKTu"
      },
      "execution_count": null,
      "outputs": []
    },
    {
      "cell_type": "code",
      "source": [
        "# 27488\n",
        "\n",
        "n = int(input())\n",
        "\n",
        "dp = [0] * 91\n",
        "dp[1] = 1\n",
        "for i in range(2, n+1):\n",
        "    dp[i] = dp[i-1] + dp[i-2]\n",
        "\n",
        "print(dp[n])"
      ],
      "metadata": {
        "id": "AYxJ_Ht5PazC"
      },
      "execution_count": null,
      "outputs": []
    },
    {
      "cell_type": "code",
      "source": [
        "# 9095\n",
        "\n",
        "dp = [0] * 10\n",
        "dp[0] = 1\n",
        "dp[1] = 2\n",
        "dp[2] = 4\n",
        "for i in range(3, 10):\n",
        "    dp[i] = dp[i-1] + dp[i-2] + dp[i-3]\n",
        "\n",
        "T = int(input())\n",
        "\n",
        "for _ in range(T):\n",
        "    n = int(input())\n",
        "    print(dp[n-1])"
      ],
      "metadata": {
        "id": "suOOdFDcswaM"
      },
      "execution_count": null,
      "outputs": []
    },
    {
      "cell_type": "code",
      "source": [
        "# 1912\n",
        "\n",
        "N = int(input())\n",
        "arr = list(map(int, input().split()))\n",
        "\n",
        "dp = [0] * N\n",
        "dp[0] = arr[0]\n",
        "for i in range(1, N):\n",
        "    dp[i] = max(arr[i], arr[i] + dp[i-1])\n",
        "\n",
        "print(max(dp))"
      ],
      "metadata": {
        "id": "LHahz72PHRX9"
      },
      "execution_count": null,
      "outputs": []
    },
    {
      "cell_type": "code",
      "source": [
        "# 9251\n",
        "\n",
        "s1 = input()\n",
        "s2 = input()\n",
        "\n",
        "matrix = [[0]*(len(s2)+1) for _ in range(len(s1)+1)]\n",
        "\n",
        "for i in range(1, len(s1)+1):\n",
        "    for j in range(1, len(s2)+1):\n",
        "        if s1[i-1] == s2[j-1]:\n",
        "            matrix[i][j] = matrix[i-1][j-1] + 1\n",
        "        else:\n",
        "            matrix[i][j] = max(matrix[i-1][j], matrix[i][j-1])\n",
        "\n",
        "print(matrix[-1][-1])"
      ],
      "metadata": {
        "id": "whJXkZAlpeQJ"
      },
      "execution_count": null,
      "outputs": []
    },
    {
      "cell_type": "code",
      "source": [
        "# 2565\n",
        "\n",
        "N = int(input())\n",
        "\n",
        "arr = []\n",
        "for _ in range(N):\n",
        "    arr.append(list(map(int, input().split())))\n",
        "arr = sorted(arr, key=lambda x:x[0])\n",
        "\n",
        "dp = [0] * N\n",
        "for i in range(1, N):\n",
        "    max_size = -1\n",
        "\n",
        "    for j in range(i):\n",
        "        if arr[j][1] < arr[i][1] and max_size < dp[j]:\n",
        "            max_size = dp[j]\n",
        "    dp[i] = max_size + 1\n",
        "print(N - (max(dp) + 1))"
      ],
      "metadata": {
        "id": "9gnV9HOyw6zj"
      },
      "execution_count": null,
      "outputs": []
    },
    {
      "cell_type": "code",
      "source": [
        "# 11054\n",
        "\n",
        "N = int(input())\n",
        "b = list(map(int, input().split()))\n",
        "\n",
        "dp_asc = [0] * N\n",
        "for i in range(N):\n",
        "    max_size = -1\n",
        "\n",
        "    for j in range(i):\n",
        "        if b[i] > b[j] and max_size < dp_asc[j]:\n",
        "            max_size = dp_asc[j]\n",
        "    dp_asc[i] = max_size + 1\n",
        "\n",
        "dp_desc = [0] * N\n",
        "for i in range(N-1, -1, -1):\n",
        "    max_size = -1\n",
        "\n",
        "    for j in range(i, N):\n",
        "        if b[i] > b[j] and max_size < dp_desc[j]:\n",
        "            max_size = dp_desc[j]\n",
        "    dp_desc[i] = max_size + 1\n",
        "\n",
        "print(max([x+y+1 for x, y in zip(dp_asc, dp_desc)]))"
      ],
      "metadata": {
        "id": "mI-Eb2Bud5vq"
      },
      "execution_count": null,
      "outputs": []
    },
    {
      "cell_type": "code",
      "source": [
        "# 11053\n",
        "\n",
        "N = int(input())\n",
        "a = list(map(int, input().split()))\n",
        "\n",
        "dp = [0] * N\n",
        "for i in range(N):\n",
        "    max_size = -1\n",
        "\n",
        "    for j in range(i):\n",
        "        if a[i] > a[j] and max_size < dp[j]:\n",
        "            max_size = dp[j]\n",
        "    dp[i] = max_size + 1\n",
        "\n",
        "print(max(dp)+1)"
      ],
      "metadata": {
        "id": "N7HvAyQkwqxx"
      },
      "execution_count": null,
      "outputs": []
    },
    {
      "cell_type": "code",
      "source": [
        "# 2156\n",
        "\n",
        "N = int(input())\n",
        "\n",
        "cup = [0]\n",
        "for _ in range(N):\n",
        "    cup.append(int(input()))\n",
        "\n",
        "dp = [0] * (N+1)\n",
        "dp[1] = cup[1]\n",
        "if N > 1:\n",
        "    dp[2] = cup[1] + cup[2]\n",
        "for i in range(3, N+1):\n",
        "    dp[i] = max(cup[i-1]+dp[i-3] + cup[i], dp[i-2] + cup[i], dp[i-1])\n",
        "\n",
        "print(dp[N])"
      ],
      "metadata": {
        "id": "cWw_VhbzJvai"
      },
      "execution_count": null,
      "outputs": []
    },
    {
      "cell_type": "code",
      "source": [
        "# 1463\n",
        "\n",
        "N = int(input())\n",
        "\n",
        "dp = [0] * (N+1)\n",
        "for i in range(2, N+1):\n",
        "    if i%3 == 0 and i%2 == 0:\n",
        "        dp[i] = min(dp[int(i/3)], dp[int(i/2)], dp[i-1]) + 1\n",
        "    elif i%3 == 0:\n",
        "        dp[i] = min(dp[int(i/3)], dp[i-1]) + 1\n",
        "    elif i%2 == 0:\n",
        "        dp[i] = min(dp[int(i/2)], dp[i-1]) + 1\n",
        "    else:\n",
        "        dp[i] = dp[i-1] + 1\n",
        "\n",
        "print(dp[N])\n",
        "\n",
        "# 재제출\n",
        "\n",
        "N = int(input())\n",
        "\n",
        "dp = [0] * (N+1)\n",
        "for i in range(2, N+1):\n",
        "    min_size = 1e6\n",
        "    \n",
        "    if i%3 == 0:\n",
        "        min_size = min(dp[i//3], min_size)\n",
        "    if i%2 == 0:\n",
        "        min_size = min(dp[i//2], min_size)\n",
        "    \n",
        "    dp[i] = min(dp[i-1], min_size) + 1\n",
        "\n",
        "print(dp[N])"
      ],
      "metadata": {
        "id": "E-8IsuNAWHg5"
      },
      "execution_count": null,
      "outputs": []
    },
    {
      "cell_type": "code",
      "source": [
        "# 2579\n",
        "\n",
        "n = int(input())\n",
        "\n",
        "dp = [0] * n\n",
        "score = []\n",
        "for _ in range(n):\n",
        "    score.append(int(input()))\n",
        "dp.extend([0, 0])\n",
        "score.extend([0, 0])\n",
        "\n",
        "dp[0] = score[0]\n",
        "dp[1] = score[0] + score[1]\n",
        "dp[2] = max(score[1], score[0]) + score[2]\n",
        "for i in range(3, n):\n",
        "    dp[i] = max(score[i-1] + dp[i-3], dp[i-2]) + score[i]\n",
        "\n",
        "print(dp[n-1])"
      ],
      "metadata": {
        "id": "OxrICIqQrupd"
      },
      "execution_count": null,
      "outputs": []
    },
    {
      "cell_type": "code",
      "source": [
        "# 1932\n",
        "\n",
        "n = int(input())\n",
        "\n",
        "arr = []\n",
        "for _ in range(n):\n",
        "    arr.append(list(map(int, input().split())))\n",
        "\n",
        "for i in range(1, n):\n",
        "    arr[i][0] = arr[i-1][0] + arr[i][0]\n",
        "    arr[i][i] = arr[i-1][i-1] + arr[i][i]\n",
        "    for j in range(1, i):\n",
        "        arr[i][j] = max(arr[i-1][j-1], arr[i-1][j]) + arr[i][j]\n",
        "print(max(arr[n-1]))"
      ],
      "metadata": {
        "id": "2SZNgIqCYHtD"
      },
      "execution_count": null,
      "outputs": []
    },
    {
      "cell_type": "code",
      "source": [
        "# 10844\n",
        "\n",
        "N = int(input())\n",
        "\n",
        "dp = [0, 0, 1, 1, 1, 1, 1, 1, 1, 1, 1, 0]\n",
        "for i in range(1, N):\n",
        "    temp = dp[:]\n",
        "    for j in range(1, 11):\n",
        "        temp[j] = dp[j-1] + dp[j+1]\n",
        "    dp = temp\n",
        "print(sum(dp) % 1000000000)"
      ],
      "metadata": {
        "id": "hqgB96Y-TMYB"
      },
      "execution_count": null,
      "outputs": []
    },
    {
      "cell_type": "code",
      "source": [
        "# 1149\n",
        "\n",
        "N = int(input())\n",
        "\n",
        "dp = [0] * N\n",
        "for i in range(N):\n",
        "    R, G, B = map(int, input().split())\n",
        "\n",
        "    if i != 0:\n",
        "        R = min(dp[i-1][1] + R, dp[i-1][2] + R)\n",
        "        G = min(dp[i-1][0] + G, dp[i-1][2] + G)\n",
        "        B = min(dp[i-1][0] + B, dp[i-1][1] + B)\n",
        "\n",
        "    dp[i] = (R, G, B)\n",
        "print(min(dp[N-1]))"
      ],
      "metadata": {
        "id": "tROm8UQXpZSt"
      },
      "execution_count": null,
      "outputs": []
    },
    {
      "cell_type": "code",
      "source": [
        "# 9461\n",
        "\n",
        "T = int(input())\n",
        "\n",
        "for _ in range(T):\n",
        "    N = int(input())\n",
        "\n",
        "    dp = [0] * 101\n",
        "    dp[1] = 1\n",
        "    dp[2] = 1\n",
        "    dp[3] = 1\n",
        "\n",
        "    for i in range(4, N+1):\n",
        "        dp[i] = dp[i-3] + dp[i-2]\n",
        "\n",
        "    print(dp[N])    "
      ],
      "metadata": {
        "id": "ZbY3DPVx0lRa"
      },
      "execution_count": null,
      "outputs": []
    },
    {
      "cell_type": "code",
      "source": [
        "# 1904\n",
        "\n",
        "N = int(input())\n",
        "\n",
        "dp = [0] * 1000001\n",
        "\n",
        "dp[1] = 1\n",
        "dp[2] = 2\n",
        "for i in range(3, N+1):\n",
        "    dp[i] = (dp[i-2] + dp[i-1]) % 15746\n",
        "\n",
        "print(dp[N])"
      ],
      "metadata": {
        "id": "9ygKxB5j9y3V"
      },
      "execution_count": null,
      "outputs": []
    },
    {
      "cell_type": "code",
      "source": [
        "# 9184\n",
        "\n",
        "def w(a, b, c):\n",
        "    global dp\n",
        "\n",
        "    if a <= 0 or b <= 0 or c <= 0:\n",
        "        return 1\n",
        "    \n",
        "    if a > 20 or b > 20 or c > 20:\n",
        "        return w(20, 20, 20)\n",
        "\n",
        "    if dp[a][b][c]:\n",
        "        return dp[a][b][c]\n",
        "\n",
        "    if a < b and b < c:\n",
        "        dp[a][b][c] = w(a, b, c-1) + w(a, b-1, c-1) - w(a, b-1, c)\n",
        "        return dp[a][b][c]\n",
        "    else:\n",
        "        dp[a][b][c] = w(a-1, b, c) + w(a-1, b-1, c) + w(a-1, b, c-1) - w(a-1, b-1, c-1)\n",
        "        return dp[a][b][c]\n",
        "\n",
        "dp = [[[0 for i in range(21)] for j in range(21)] for k in range(21)]\n",
        "while True:\n",
        "    a, b, c = map(int, input().split())\n",
        "    if a == -1 and b == -1 and c == -1:\n",
        "        break\n",
        "\n",
        "    print('w({}, {}, {}) = {}'.format(a, b, c, w(a, b, c)))"
      ],
      "metadata": {
        "id": "gC30W-oRljYh"
      },
      "execution_count": null,
      "outputs": []
    },
    {
      "cell_type": "code",
      "source": [
        "# 1003\n",
        "\n",
        "def fibonacci(n):\n",
        "    zero = [1, 0]\n",
        "    one = [0, 1]\n",
        "\n",
        "    for i in range(2, n+1):\n",
        "        zero.append(zero[i-2] + zero[i-1])\n",
        "        one.append(one[i-2] + one[i-1])\n",
        "\n",
        "    print(zero[n], one[n])\n",
        "\n",
        "T = int(input())\n",
        "\n",
        "for _ in range(T):\n",
        "    N = int(input())\n",
        "    \n",
        "    fibonacci(N)"
      ],
      "metadata": {
        "id": "wY7XZ48SmzdT"
      },
      "execution_count": null,
      "outputs": []
    },
    {
      "cell_type": "code",
      "source": [
        "# 14889\n",
        "\n",
        "N = int(input())\n",
        "\n",
        "graph = []\n",
        "for _ in range(N):\n",
        "    graph.append(list(map(int, input().split())))\n",
        "\n",
        "start_team = []\n",
        "link_team = [i for i in range(N)]\n",
        "min_size = 1e9\n",
        "def solve(depth):\n",
        "    global N, min_size\n",
        "\n",
        "    if len(start_team) == N/2:\n",
        "        start_score = 0\n",
        "        link_score = 0\n",
        "        for i in range(int(N/2)):\n",
        "            for j in range(i+1, int(N/2)):\n",
        "                start_score += graph[start_team[i]][start_team[j]] + graph[start_team[j]][start_team[i]]\n",
        "\n",
        "        for i in range(int(N/2)):\n",
        "            for j in range(i+1, int(N/2)):\n",
        "                link_score += graph[link_team[i]][link_team[j]] + graph[link_team[j]][link_team[i]]\n",
        "\n",
        "        min_size = min(min_size, abs(start_score - link_score))\n",
        "        return\n",
        "\n",
        "    for i in range(depth, N):\n",
        "        start_team.append(i)\n",
        "        link_team.remove(i)\n",
        "        solve(i+1)\n",
        "        start_team.pop()\n",
        "        link_team.append(i)\n",
        "\n",
        "solve(0)\n",
        "print(min_size)"
      ],
      "metadata": {
        "id": "KsNIB2XG1TXi"
      },
      "execution_count": null,
      "outputs": []
    },
    {
      "cell_type": "code",
      "source": [
        "# 14888\n",
        "\n",
        "def calculate(num, i, result):\n",
        "    operator = opt[order[i]]\n",
        "\n",
        "    if operator == '+':\n",
        "        result += num\n",
        "    elif operator == '-':\n",
        "        result -= num\n",
        "    elif operator == '*':\n",
        "        result *= num\n",
        "    elif operator == '/':\n",
        "        result = int(result / num)\n",
        "    \n",
        "    return result\n",
        "\n",
        "order = []\n",
        "num_list = []\n",
        "def dfs(order):\n",
        "    if N-1 == len(order):\n",
        "        result = a[0]\n",
        "        for i in range(1, N):\n",
        "            result = calculate(a[i], i-1, result)\n",
        "        num_list.append(result)\n",
        "        return\n",
        "\n",
        "    for i in range(N-1):\n",
        "        if i not in order:\n",
        "            order.append(i)\n",
        "            dfs(order)\n",
        "            order.pop()\n",
        "\n",
        "N = int(input())\n",
        "a = list(map(int, input().split()))\n",
        "opt_cnt = list(map(int, input().split()))\n",
        "\n",
        "opt = ['+']*opt_cnt[0] + ['-']*opt_cnt[1] + ['*']*opt_cnt[2] + ['/']*opt_cnt[3]\n",
        "\n",
        "dfs(order)\n",
        "print(max(num_list))\n",
        "print(min(num_list))\n",
        "\n",
        "# 재제출\n",
        "\n",
        "N = int(input())\n",
        "a = list(map(int, input().split()))\n",
        "op = list(map(int, input().split()))\n",
        "\n",
        "max_size = -1e9\n",
        "min_size = 1e9\n",
        "\n",
        "def solve(depth, num, add, sub, mul, div):\n",
        "    global max_size, min_size\n",
        "\n",
        "    if depth == N:\n",
        "        max_size = max(max_size, num)\n",
        "        min_size = min(min_size, num)\n",
        "        return\n",
        "\n",
        "    if add > 0:\n",
        "        solve(depth+1, num+a[depth], add-1, sub, mul, div)\n",
        "    if sub > 0:\n",
        "        solve(depth+1, num-a[depth], add, sub-1, mul, div)\n",
        "    if mul > 0:\n",
        "        solve(depth+1, num*a[depth], add, sub, mul-1, div)\n",
        "    if div > 0:\n",
        "        solve(depth+1, int(num/a[depth]), add, sub, mul, div-1)\n",
        "\n",
        "solve(1, a[0], op[0], op[1], op[2], op[3])\n",
        "print(max_size)\n",
        "print(min_size)"
      ],
      "metadata": {
        "id": "nBobOESxUalX"
      },
      "execution_count": null,
      "outputs": []
    },
    {
      "cell_type": "code",
      "source": [
        "# 2580\n",
        "\n",
        "board = []\n",
        "for _ in range(9):\n",
        "    row = list(map(int, input().split()))\n",
        "    board.append(row)\n",
        "\n",
        "blank = []\n",
        "for i in range(9):\n",
        "    for j in range(9):\n",
        "        if board[i][j] == 0:\n",
        "            blank.append((i,j))\n",
        "\n",
        "def checkRow(x, n):\n",
        "    for j in range(9):\n",
        "        if n == board[x][j]:\n",
        "            return False\n",
        "    \n",
        "    return True\n",
        "        \n",
        "\n",
        "def checkCol(y, n):\n",
        "    for i in range(9):\n",
        "        if n == board[i][y]:\n",
        "            return False\n",
        "    \n",
        "    return True\n",
        "\n",
        "def checkRect(x, y, n):\n",
        "    nx = x // 3 * 3\n",
        "    ny = y // 3 * 3\n",
        "    \n",
        "    for i in range(3):\n",
        "        for j in range(3):\n",
        "            if board[nx+i][ny+j] == n:\n",
        "                return False\n",
        "\n",
        "    return True\n",
        "\n",
        "def dfs(i):\n",
        "    if len(blank) == i:\n",
        "        for row in board:\n",
        "            print(*row)\n",
        "        exit(0)\n",
        "\n",
        "    x = blank[i][0]\n",
        "    y = blank[i][1]\n",
        "    for n in range(1, 10):\n",
        "        if checkRow(x, n) and checkCol(y, n) and checkRect(x, y, n):\n",
        "            board[x][y] = n\n",
        "            dfs(i+1)\n",
        "            board[x][y] = 0\n",
        "        \n",
        "dfs(0)"
      ],
      "metadata": {
        "id": "qeYxQ5J-OlxV"
      },
      "execution_count": null,
      "outputs": []
    },
    {
      "cell_type": "code",
      "source": [
        "# 9663\n",
        "\n",
        "N = int(input())\n",
        "\n",
        "cnt = 0\n",
        "center_col = []\n",
        "left_col = []\n",
        "right_col = []\n",
        "def N_Queen(row):\n",
        "    global cnt\n",
        "    for j in range(N):\n",
        "        if (j in center_col or row+j in left_col or j-row in right_col) and row != 0:\n",
        "            pass\n",
        "        else:\n",
        "            if row == N-1:\n",
        "                cnt += 1\n",
        "                return\n",
        "            else:\n",
        "                center_col.append(j)\n",
        "                left_col.append(row+j)\n",
        "                right_col.append(j-row)\n",
        "                N_Queen(row+1)\n",
        "                center_col.pop()\n",
        "                left_col.pop()\n",
        "                right_col.pop()\n",
        "    \n",
        "N_Queen(0)\n",
        "print(cnt)"
      ],
      "metadata": {
        "id": "efCXNqnpWeEL"
      },
      "execution_count": null,
      "outputs": []
    },
    {
      "cell_type": "code",
      "source": [
        "# 18108\n",
        "\n",
        "y = int(input())\n",
        "\n",
        "print(y-543)"
      ],
      "metadata": {
        "id": "3dVvIUNa6tfU"
      },
      "execution_count": null,
      "outputs": []
    },
    {
      "cell_type": "code",
      "source": [
        "# 10926\n",
        "\n",
        "s = input()\n",
        "print(s + '??!')"
      ],
      "metadata": {
        "id": "aKG7SYkw5iXY"
      },
      "execution_count": null,
      "outputs": []
    },
    {
      "cell_type": "code",
      "source": [
        "# 15652\n",
        "\n",
        "N, M = map(int, input().split())\n",
        "\n",
        "arr = []\n",
        "def dfs(start):\n",
        "    if len(arr) == M:\n",
        "        print(*arr)\n",
        "        return\n",
        "    else:        \n",
        "        for i in range(start, N+1):\n",
        "            arr.append(i)\n",
        "            dfs(i)\n",
        "            arr.pop()\n",
        "\n",
        "dfs(1)"
      ],
      "metadata": {
        "id": "2Nxk9go05NFj"
      },
      "execution_count": null,
      "outputs": []
    },
    {
      "cell_type": "code",
      "source": [
        "# 15651\n",
        "\n",
        "N, M = map(int, input().split())\n",
        "\n",
        "arr = []\n",
        "def dfs():\n",
        "    if len(arr) == M:\n",
        "        print(*arr)\n",
        "        return\n",
        "    else:        \n",
        "        for i in range(1, N+1):\n",
        "            arr.append(i)\n",
        "            dfs()\n",
        "            arr.pop()\n",
        "\n",
        "dfs()"
      ],
      "metadata": {
        "id": "lCqQeO4cegxo"
      },
      "execution_count": null,
      "outputs": []
    },
    {
      "cell_type": "code",
      "source": [
        "# 15650\n",
        "\n",
        "N, M = map(int, input().split())\n",
        "\n",
        "arr = []\n",
        "def dfs(start):\n",
        "    if len(arr) == M:\n",
        "        print(*arr)\n",
        "        return\n",
        "    else:        \n",
        "        for i in range(start, N+1):\n",
        "            if i not in arr:\n",
        "                arr.append(i)\n",
        "                dfs(i+1)\n",
        "                arr.pop()\n",
        "\n",
        "dfs(1)"
      ],
      "metadata": {
        "id": "gsAR2e9Aiqdl"
      },
      "execution_count": null,
      "outputs": []
    },
    {
      "cell_type": "code",
      "source": [
        "# 15649\n",
        "\n",
        "N, M = map(int, input().split())\n",
        "\n",
        "arr = []\n",
        "def dfs():\n",
        "    if len(arr) == M:\n",
        "        print(*arr)\n",
        "        return\n",
        "    else:        \n",
        "        for i in range(1, N+1):\n",
        "            if i not in arr:\n",
        "                arr.append(i)\n",
        "                dfs()\n",
        "                arr.pop()\n",
        "\n",
        "dfs()"
      ],
      "metadata": {
        "id": "mkkafCWnyvmB"
      },
      "execution_count": null,
      "outputs": []
    },
    {
      "cell_type": "code",
      "source": [
        "# 18870\n",
        "\n",
        "N =int(input())\n",
        "arr = list(map(int, input().split()))\n",
        "\n",
        "sort_list = sorted(set(arr))\n",
        "\n",
        "dic = {}\n",
        "index = 0\n",
        "for i in sort_list:\n",
        "    dic[i] = index\n",
        "    index += 1\n",
        "\n",
        "for i in arr:\n",
        "    print(dic[i], end=\" \")\n",
        "\n",
        "# 재제출\n",
        "\n",
        "N =int(input())\n",
        "arr = list(map(int, input().split()))\n",
        "\n",
        "sort_list = sorted(set(arr))\n",
        "\n",
        "dic = {x:i for i, x in enumerate(sort_list)}\n",
        "\n",
        "for i in arr:\n",
        "    print(dic[i], end=\" \")"
      ],
      "metadata": {
        "id": "kqyuWlnRVw46"
      },
      "execution_count": null,
      "outputs": []
    },
    {
      "cell_type": "code",
      "source": [
        "# 10814\n",
        "\n",
        "N = int(input())\n",
        "\n",
        "arr = []\n",
        "order = 0\n",
        "for _ in range(N):\n",
        "    age, name = input().split()\n",
        "    arr.append([int(age), name, order])\n",
        "    order += 1\n",
        "\n",
        "result = sorted(arr, key=lambda x:(x[0], x[2]))\n",
        "for i in result:\n",
        "    print(i[0], i[1])"
      ],
      "metadata": {
        "id": "6StNcEgpTbTG"
      },
      "execution_count": null,
      "outputs": []
    },
    {
      "cell_type": "code",
      "source": [
        "# 1181\n",
        "\n",
        "N = int(input())\n",
        "\n",
        "arr = []\n",
        "for _ in range(N):\n",
        "    arr.append(input())\n",
        "\n",
        "result = set(sorted(arr, key=lambda x:(len(x), x)))\n",
        "\n",
        "for p in result:\n",
        "    print(p)"
      ],
      "metadata": {
        "id": "iZ0-nWglQa1X"
      },
      "execution_count": null,
      "outputs": []
    },
    {
      "cell_type": "code",
      "source": [
        "# 11651\n",
        "\n",
        "N = int(input())\n",
        "\n",
        "arr = []\n",
        "for _ in range(N):\n",
        "    arr.append(list(map(int, input().split())))\n",
        "\n",
        "result = sorted(arr, key=lambda x:(x[1], x[0]))\n",
        "\n",
        "for p in result:\n",
        "    print(*p)"
      ],
      "metadata": {
        "id": "ekvTkOt_Puvd"
      },
      "execution_count": null,
      "outputs": []
    },
    {
      "cell_type": "code",
      "source": [
        "# 11650\n",
        "\n",
        "N = int(input())\n",
        "\n",
        "arr = []\n",
        "for _ in range(N):\n",
        "    arr.append(list(map(int, input().split())))\n",
        "\n",
        "result = sorted(arr)\n",
        "\n",
        "for p in result:\n",
        "    print(*p)"
      ],
      "metadata": {
        "id": "aHNKYS1EbBO1"
      },
      "execution_count": null,
      "outputs": []
    },
    {
      "cell_type": "code",
      "source": [
        "# 1427\n",
        "\n",
        "N = input()\n",
        "\n",
        "arr = []\n",
        "for c in N:\n",
        "    arr.append(c)\n",
        "\n",
        "arr.sort(reverse=True)\n",
        "for c in arr:\n",
        "    print(c, end=\"\")\n",
        "\n",
        "# 재제출\n",
        "\n",
        "arr = list(input())\n",
        "arr.sort(reverse=True)\n",
        "print(''.join(arr))"
      ],
      "metadata": {
        "id": "VCWkTRkpInjS"
      },
      "execution_count": null,
      "outputs": []
    },
    {
      "cell_type": "code",
      "source": [
        "# 2108\n",
        "\n",
        "N = int(input())\n",
        "\n",
        "arr = []\n",
        "for _ in range(N):\n",
        "    arr.append(int(input()))\n",
        "\n",
        "print(round(sum(arr)/len(arr)))\n",
        "\n",
        "arr.sort()\n",
        "print(arr[len(arr)//2])\n",
        "\n",
        "\n",
        "temp = [0] * 8001\n",
        "for i in arr:\n",
        "    temp[i+4000] += 1\n",
        "\n",
        "index = 0\n",
        "maxCount = 0\n",
        "for i in temp:\n",
        "    if i > maxCount:\n",
        "        cntList = []\n",
        "        maxCount = i\n",
        "        cntList.append(index - 4000)\n",
        "    elif i == maxCount and i != 0:\n",
        "        cntList.append(index - 4000)\n",
        "\n",
        "    index += 1\n",
        "    \n",
        "if len(cntList) > 1:\n",
        "    cntList.sort()\n",
        "    print(cntList[1])\n",
        "else:\n",
        "    print(cntList[0])\n",
        "\n",
        "print(max(arr) - min(arr))"
      ],
      "metadata": {
        "id": "3BdFtj1ZB2Wy"
      },
      "execution_count": null,
      "outputs": []
    },
    {
      "cell_type": "code",
      "source": [
        "# 10989 (python3)\n",
        "\n",
        "import sys\n",
        "\n",
        "N = int(sys.stdin.readline())\n",
        "\n",
        "seq = [0] * 10000\n",
        "for _ in range(N):\n",
        "    i = int(sys.stdin.readline())\n",
        "    seq[i-1] += 1\n",
        "\n",
        "for i in range(10000):\n",
        "    for _ in range(seq[i]):\n",
        "        print(i+1)\n",
        "\n",
        "# 재제출 (pypy3)\n",
        "\n",
        "import sys\n",
        "\n",
        "N = int(sys.stdin.readline())\n",
        "\n",
        "seq = [0] * 10000\n",
        "for _ in range(N):\n",
        "    i = int(sys.stdin.readline())\n",
        "    seq[i-1] += 1\n",
        "\n",
        "for i in range(10000):\n",
        "    for _ in range(seq[i]):\n",
        "        sys.stdout.write(str(i+1) + '\\n')"
      ],
      "metadata": {
        "id": "MCqrOX6HwxYh"
      },
      "execution_count": null,
      "outputs": []
    },
    {
      "cell_type": "code",
      "source": [
        "# 2750, 2751\n",
        "\n",
        "N = int(input())\n",
        "\n",
        "seq = []\n",
        "for _ in range(N):\n",
        "    seq.append(int(input()))\n",
        "\n",
        "seq.sort()\n",
        "for i in seq:\n",
        "    print(i)"
      ],
      "metadata": {
        "id": "WwTlAQQR74_d"
      },
      "execution_count": null,
      "outputs": []
    },
    {
      "cell_type": "code",
      "source": [
        "# 1436\n",
        "\n",
        "N = int(input())\n",
        "\n",
        "cnt = 1\n",
        "num = 666\n",
        "while True:\n",
        "    if N == cnt:\n",
        "        print(num)\n",
        "        break\n",
        "\n",
        "    num += 1\n",
        "    if str(num).find('666') != -1:\n",
        "        cnt += 1\n",
        "\n",
        "# 재제출\n",
        "\n",
        "N = int(input())\n",
        "\n",
        "cnt = 1\n",
        "num = 666\n",
        "while N != cnt:\n",
        "    num += 1\n",
        "    if str(num).find('666') != -1:\n",
        "        cnt += 1\n",
        "\n",
        "print(num)"
      ],
      "metadata": {
        "id": "si2aBhDC2Pgg"
      },
      "execution_count": null,
      "outputs": []
    },
    {
      "cell_type": "code",
      "source": [
        "# 1018\n",
        "\n",
        "def check(color, chess):\n",
        "    cnt = 0\n",
        "    for r in chess:\n",
        "        for s in r:\n",
        "            if s != color:\n",
        "                cnt += 1\n",
        "            \n",
        "            if color == 'W':\n",
        "                color = 'B'\n",
        "            else:\n",
        "                color = 'W'\n",
        "\n",
        "        if color == 'W':\n",
        "            color = 'B'\n",
        "        else:\n",
        "            color = 'W'\n",
        "    \n",
        "    return cnt\n",
        "    \n",
        "\n",
        "N, M = map(int, input().split())\n",
        "\n",
        "board = []\n",
        "for _ in range(N):\n",
        "    board.append(input())\n",
        "\n",
        "result = 9999\n",
        "for i in range(N-8+1):\n",
        "    for j in range(M-8+1):\n",
        "        chess = []\n",
        "\n",
        "        for row in board[i:i+8]:\n",
        "            chess.append(row[j:j+8])\n",
        "\n",
        "        cnt = min(check('W', chess), check('B', chess))\n",
        "        result = min(result, cnt)\n",
        "\n",
        "print(result)"
      ],
      "metadata": {
        "id": "qhwuMXmxy0Wl"
      },
      "execution_count": null,
      "outputs": []
    },
    {
      "cell_type": "code",
      "source": [
        "# 7568\n",
        "\n",
        "N = int(input())\n",
        "\n",
        "people = []\n",
        "for _ in range(N):\n",
        "    people.append(list(map(int, input().split())))\n",
        "\n",
        "result = [1 for _ in range(N)]\n",
        "for i in range(N-1):\n",
        "    for j in range(i+1, N):\n",
        "        if people[i][0] > people[j][0] and people[i][1] > people[j][1]:\n",
        "            result[j] += 1\n",
        "        elif people[i][0] < people[j][0] and people[i][1] < people[j][1]:\n",
        "            result[i] += 1\n",
        "\n",
        "print(*result)"
      ],
      "metadata": {
        "id": "63yYJHgz6pZB"
      },
      "execution_count": null,
      "outputs": []
    },
    {
      "cell_type": "code",
      "source": [
        "# 2231\n",
        "\n",
        "N = int(input())\n",
        "\n",
        "n = N\n",
        "ans = 0\n",
        "while True:\n",
        "    n -= 1\n",
        "    n_str = str(n)\n",
        "\n",
        "    s = n\n",
        "    for i in n_str:\n",
        "        s += int(i)\n",
        "    \n",
        "    if s == N:\n",
        "        ans = n\n",
        "    \n",
        "    if n < 1:\n",
        "        break\n",
        "\n",
        "print(ans)\n",
        "\n",
        "# 재제출\n",
        "\n",
        "N = int(input())\n",
        "\n",
        "ans = 0\n",
        "for n in range(1, N+1):\n",
        "    n_str = str(n)\n",
        "\n",
        "    s = n\n",
        "    for i in n_str:\n",
        "        s += int(i)\n",
        "    \n",
        "    if s == N:\n",
        "        ans = n\n",
        "        break\n",
        "\n",
        "print(ans)"
      ],
      "metadata": {
        "id": "H33kTEOfuQOb"
      },
      "execution_count": null,
      "outputs": []
    },
    {
      "cell_type": "code",
      "source": [
        "# 2798\n",
        "\n",
        "N, M = map(int, input().split())\n",
        "\n",
        "card = list(map(int, input().split()))\n",
        "\n",
        "max = 0\n",
        "one = card[:]\n",
        "for i in card:\n",
        "    one.remove(i)\n",
        "    two = one[:]\n",
        "    for j in one:\n",
        "        two.remove(j)\n",
        "        for k in two:\n",
        "            if max < i+j+k and M >= i+j+k:\n",
        "                result = i+j+k\n",
        "                max = result\n",
        "\n",
        "print(result)\n",
        "\n",
        "# 재제출\n",
        "\n",
        "N, M = map(int, input().split())\n",
        "\n",
        "card = list(map(int, input().split()))\n",
        "\n",
        "result = 0\n",
        "for i in range(N-2):\n",
        "    for j in range(i+1, N-1):\n",
        "        for k in range(j+1, N):\n",
        "            s = card[i] + card[j] + card[k]\n",
        "            if s <= M:\n",
        "                result = max(result, s)\n",
        "\n",
        "print(result)"
      ],
      "metadata": {
        "id": "lGVHhHk3cxjw"
      },
      "execution_count": null,
      "outputs": []
    },
    {
      "cell_type": "code",
      "source": [
        "# 11729\n",
        "\n",
        "N = int(input())\n",
        "\n",
        "print(2 ** N - 1) # 최소 이동 횟수\n",
        "\n",
        "def hanoi(n, from_pos, to_pos, aux_pos):\n",
        "    \n",
        "    if n == 1:\n",
        "        print(from_pos, to_pos)\n",
        "        return\n",
        "\n",
        "    hanoi(n-1, from_pos, aux_pos, to_pos) # n-1개 보조 타워로 이동\n",
        "    print(from_pos, to_pos) # 가장 큰 원판 목표 타워로 이동\n",
        "    hanoi(n-1, aux_pos, to_pos, from_pos) # n-1개 목표 타워로 이동\n",
        "\n",
        "hanoi(N, 1, 3, 2)"
      ],
      "metadata": {
        "id": "YFMNof8wkzpd"
      },
      "execution_count": null,
      "outputs": []
    },
    {
      "cell_type": "code",
      "source": [
        "# 2447\n",
        "\n",
        "def printStar(n, rect):\n",
        "    x = []\n",
        "    if n == 3:\n",
        "        return rect\n",
        "\n",
        "    for i in rect:\n",
        "        x.append(i * 3)\n",
        "    \n",
        "    for i in rect:\n",
        "        x.append(i+' '*len(rect)+i)\n",
        "\n",
        "    for i in rect:\n",
        "        x.append(i * 3)\n",
        "\n",
        "    return printStar(n//3, x)\n",
        "\n",
        "N = int(input())\n",
        "\n",
        "first = ['***', '* *', '***']\n",
        "first = printStar(N, first)\n",
        "\n",
        "for res in first:\n",
        "    print(res)"
      ],
      "metadata": {
        "id": "dNvwBHfEQe4t"
      },
      "execution_count": null,
      "outputs": []
    },
    {
      "cell_type": "code",
      "source": [
        "# 10870\n",
        "\n",
        "N = int(input())\n",
        "\n",
        "def fibonacci(n):\n",
        "\n",
        "    if n == 0:\n",
        "        return 0\n",
        "    elif n == 1:\n",
        "        return 1\n",
        "\n",
        "    return fibonacci(n-1) + fibonacci(n-2)\n",
        "\n",
        "print(fibonacci(N))"
      ],
      "metadata": {
        "id": "lBwxDSdQPLhX"
      },
      "execution_count": null,
      "outputs": []
    },
    {
      "cell_type": "code",
      "execution_count": null,
      "metadata": {
        "id": "hvRGGStkHqEO"
      },
      "outputs": [],
      "source": [
        "# 10872\n",
        "\n",
        "N = int(input())\n",
        "\n",
        "def factorial(n):\n",
        "\n",
        "    if n == 0:\n",
        "        return 1\n",
        "\n",
        "    return n * factorial(n-1)\n",
        "\n",
        "print(factorial(N))"
      ]
    }
  ]
}