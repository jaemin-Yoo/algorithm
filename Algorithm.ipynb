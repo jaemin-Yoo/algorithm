{
  "nbformat": 4,
  "nbformat_minor": 0,
  "metadata": {
    "colab": {
      "name": "Algorithm.ipynb",
      "private_outputs": true,
      "provenance": [],
      "authorship_tag": "ABX9TyPRq4ynjcC1wyqGPCem9TD0"
    },
    "kernelspec": {
      "name": "python3",
      "display_name": "Python 3"
    },
    "language_info": {
      "name": "python"
    }
  },
  "cells": [
    {
      "cell_type": "code",
      "execution_count": null,
      "metadata": {
        "id": "hvRGGStkHqEO"
      },
      "outputs": [],
      "source": [
        "# 10872\n",
        "\n",
        "N = int(input())\n",
        "\n",
        "def factorial(n):\n",
        "\n",
        "    if n == 0:\n",
        "        return 1\n",
        "\n",
        "    return n * factorial(n-1)\n",
        "\n",
        "print(factorial(N))"
      ]
    }
  ]
}