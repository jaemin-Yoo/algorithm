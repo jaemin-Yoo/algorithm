{
  "nbformat": 4,
  "nbformat_minor": 0,
  "metadata": {
    "colab": {
      "name": "Algorithm.ipynb",
      "private_outputs": true,
      "provenance": [],
      "collapsed_sections": [],
      "authorship_tag": "ABX9TyO0QZa2qsHfLrHHDQIxyfwo"
    },
    "kernelspec": {
      "name": "python3",
      "display_name": "Python 3"
    },
    "language_info": {
      "name": "python"
    }
  },
  "cells": [
    {
      "cell_type": "code",
      "source": [
        "# 11729\n",
        "\n",
        "N = int(input())\n",
        "\n",
        "print(2 ** N - 1) # 최소 이동 횟수\n",
        "\n",
        "def hanoi(n, from_pos, to_pos, aux_pos):\n",
        "    \n",
        "    if n == 1:\n",
        "        print(from_pos, to_pos)\n",
        "        return\n",
        "\n",
        "    hanoi(n-1, from_pos, aux_pos, to_pos) # n-1개 보조 타워로 이동\n",
        "    print(from_pos, to_pos) # 가장 큰 원판 목표 타워로 이동\n",
        "    hanoi(n-1, aux_pos, to_pos, from_pos) # n-1개 목표 타워로 이동\n",
        "\n",
        "hanoi(N, 1, 3, 2)"
      ],
      "metadata": {
        "id": "YFMNof8wkzpd"
      },
      "execution_count": null,
      "outputs": []
    },
    {
      "cell_type": "code",
      "source": [
        "# 2447\n",
        "\n",
        "def printStar(n, rect):\n",
        "    x = []\n",
        "    if n == 3:\n",
        "        return rect\n",
        "\n",
        "    for i in rect:\n",
        "        x.append(i * 3)\n",
        "    \n",
        "    for i in rect:\n",
        "        x.append(i+' '*len(rect)+i)\n",
        "\n",
        "    for i in rect:\n",
        "        x.append(i * 3)\n",
        "\n",
        "    return printStar(n//3, x)\n",
        "\n",
        "N = int(input())\n",
        "\n",
        "first = ['***', '* *', '***']\n",
        "first = printStar(N, first)\n",
        "\n",
        "for res in first:\n",
        "    print(res)"
      ],
      "metadata": {
        "id": "dNvwBHfEQe4t"
      },
      "execution_count": null,
      "outputs": []
    },
    {
      "cell_type": "code",
      "source": [
        "# 10870\n",
        "\n",
        "N = int(input())\n",
        "\n",
        "def fibonacci(n):\n",
        "\n",
        "    if n == 0:\n",
        "        return 0\n",
        "    elif n == 1:\n",
        "        return 1\n",
        "\n",
        "    return fibonacci(n-1) + fibonacci(n-2)\n",
        "\n",
        "print(fibonacci(N))"
      ],
      "metadata": {
        "id": "lBwxDSdQPLhX"
      },
      "execution_count": null,
      "outputs": []
    },
    {
      "cell_type": "code",
      "execution_count": null,
      "metadata": {
        "id": "hvRGGStkHqEO"
      },
      "outputs": [],
      "source": [
        "# 10872\n",
        "\n",
        "N = int(input())\n",
        "\n",
        "def factorial(n):\n",
        "\n",
        "    if n == 0:\n",
        "        return 1\n",
        "\n",
        "    return n * factorial(n-1)\n",
        "\n",
        "print(factorial(N))"
      ]
    }
  ]
}